{
 "cells": [
  {
   "cell_type": "code",
   "execution_count": 1,
   "id": "fdc90723",
   "metadata": {},
   "outputs": [],
   "source": [
    "import pandas as pd\n",
    "import numpy as np"
   ]
  },
  {
   "cell_type": "code",
   "execution_count": 2,
   "id": "0cb8d9e3",
   "metadata": {},
   "outputs": [],
   "source": [
    "insurance_data = pd.read_csv(r'https://raw.githubusercontent.com/data-bootcamp-v4/data/main/file1.csv')"
   ]
  },
  {
   "cell_type": "code",
   "execution_count": 3,
   "id": "e71aefa6",
   "metadata": {},
   "outputs": [
    {
     "data": {
      "text/html": [
       "<div>\n",
       "<style scoped>\n",
       "    .dataframe tbody tr th:only-of-type {\n",
       "        vertical-align: middle;\n",
       "    }\n",
       "\n",
       "    .dataframe tbody tr th {\n",
       "        vertical-align: top;\n",
       "    }\n",
       "\n",
       "    .dataframe thead th {\n",
       "        text-align: right;\n",
       "    }\n",
       "</style>\n",
       "<table border=\"1\" class=\"dataframe\">\n",
       "  <thead>\n",
       "    <tr style=\"text-align: right;\">\n",
       "      <th></th>\n",
       "      <th>Customer</th>\n",
       "      <th>ST</th>\n",
       "      <th>GENDER</th>\n",
       "      <th>Education</th>\n",
       "      <th>Customer Lifetime Value</th>\n",
       "      <th>Income</th>\n",
       "      <th>Monthly Premium Auto</th>\n",
       "      <th>Number of Open Complaints</th>\n",
       "      <th>Policy Type</th>\n",
       "      <th>Vehicle Class</th>\n",
       "      <th>Total Claim Amount</th>\n",
       "    </tr>\n",
       "  </thead>\n",
       "  <tbody>\n",
       "    <tr>\n",
       "      <th>0</th>\n",
       "      <td>RB50392</td>\n",
       "      <td>Washington</td>\n",
       "      <td>NaN</td>\n",
       "      <td>Master</td>\n",
       "      <td>NaN</td>\n",
       "      <td>0.0</td>\n",
       "      <td>1000.0</td>\n",
       "      <td>1/0/00</td>\n",
       "      <td>Personal Auto</td>\n",
       "      <td>Four-Door Car</td>\n",
       "      <td>2.704934</td>\n",
       "    </tr>\n",
       "    <tr>\n",
       "      <th>1</th>\n",
       "      <td>QZ44356</td>\n",
       "      <td>Arizona</td>\n",
       "      <td>F</td>\n",
       "      <td>Bachelor</td>\n",
       "      <td>697953.59%</td>\n",
       "      <td>0.0</td>\n",
       "      <td>94.0</td>\n",
       "      <td>1/0/00</td>\n",
       "      <td>Personal Auto</td>\n",
       "      <td>Four-Door Car</td>\n",
       "      <td>1131.464935</td>\n",
       "    </tr>\n",
       "    <tr>\n",
       "      <th>2</th>\n",
       "      <td>AI49188</td>\n",
       "      <td>Nevada</td>\n",
       "      <td>F</td>\n",
       "      <td>Bachelor</td>\n",
       "      <td>1288743.17%</td>\n",
       "      <td>48767.0</td>\n",
       "      <td>108.0</td>\n",
       "      <td>1/0/00</td>\n",
       "      <td>Personal Auto</td>\n",
       "      <td>Two-Door Car</td>\n",
       "      <td>566.472247</td>\n",
       "    </tr>\n",
       "    <tr>\n",
       "      <th>3</th>\n",
       "      <td>WW63253</td>\n",
       "      <td>California</td>\n",
       "      <td>M</td>\n",
       "      <td>Bachelor</td>\n",
       "      <td>764586.18%</td>\n",
       "      <td>0.0</td>\n",
       "      <td>106.0</td>\n",
       "      <td>1/0/00</td>\n",
       "      <td>Corporate Auto</td>\n",
       "      <td>SUV</td>\n",
       "      <td>529.881344</td>\n",
       "    </tr>\n",
       "    <tr>\n",
       "      <th>4</th>\n",
       "      <td>GA49547</td>\n",
       "      <td>Washington</td>\n",
       "      <td>M</td>\n",
       "      <td>High School or Below</td>\n",
       "      <td>536307.65%</td>\n",
       "      <td>36357.0</td>\n",
       "      <td>68.0</td>\n",
       "      <td>1/0/00</td>\n",
       "      <td>Personal Auto</td>\n",
       "      <td>Four-Door Car</td>\n",
       "      <td>17.269323</td>\n",
       "    </tr>\n",
       "  </tbody>\n",
       "</table>\n",
       "</div>"
      ],
      "text/plain": [
       "  Customer          ST GENDER             Education Customer Lifetime Value  \\\n",
       "0  RB50392  Washington    NaN                Master                     NaN   \n",
       "1  QZ44356     Arizona      F              Bachelor              697953.59%   \n",
       "2  AI49188      Nevada      F              Bachelor             1288743.17%   \n",
       "3  WW63253  California      M              Bachelor              764586.18%   \n",
       "4  GA49547  Washington      M  High School or Below              536307.65%   \n",
       "\n",
       "    Income  Monthly Premium Auto Number of Open Complaints     Policy Type  \\\n",
       "0      0.0                1000.0                    1/0/00   Personal Auto   \n",
       "1      0.0                  94.0                    1/0/00   Personal Auto   \n",
       "2  48767.0                 108.0                    1/0/00   Personal Auto   \n",
       "3      0.0                 106.0                    1/0/00  Corporate Auto   \n",
       "4  36357.0                  68.0                    1/0/00   Personal Auto   \n",
       "\n",
       "   Vehicle Class  Total Claim Amount  \n",
       "0  Four-Door Car            2.704934  \n",
       "1  Four-Door Car         1131.464935  \n",
       "2   Two-Door Car          566.472247  \n",
       "3            SUV          529.881344  \n",
       "4  Four-Door Car           17.269323  "
      ]
     },
     "execution_count": 3,
     "metadata": {},
     "output_type": "execute_result"
    }
   ],
   "source": [
    "insurance_data.head()"
   ]
  },
  {
   "cell_type": "code",
   "execution_count": 4,
   "id": "70428913",
   "metadata": {},
   "outputs": [],
   "source": [
    "insurance_data.columns= insurance_data.columns.str.lower()"
   ]
  },
  {
   "cell_type": "code",
   "execution_count": 5,
   "id": "387d79c9",
   "metadata": {},
   "outputs": [
    {
     "data": {
      "text/html": [
       "<div>\n",
       "<style scoped>\n",
       "    .dataframe tbody tr th:only-of-type {\n",
       "        vertical-align: middle;\n",
       "    }\n",
       "\n",
       "    .dataframe tbody tr th {\n",
       "        vertical-align: top;\n",
       "    }\n",
       "\n",
       "    .dataframe thead th {\n",
       "        text-align: right;\n",
       "    }\n",
       "</style>\n",
       "<table border=\"1\" class=\"dataframe\">\n",
       "  <thead>\n",
       "    <tr style=\"text-align: right;\">\n",
       "      <th></th>\n",
       "      <th>customer</th>\n",
       "      <th>st</th>\n",
       "      <th>gender</th>\n",
       "      <th>education</th>\n",
       "      <th>customer lifetime value</th>\n",
       "      <th>income</th>\n",
       "      <th>monthly premium auto</th>\n",
       "      <th>number of open complaints</th>\n",
       "      <th>policy type</th>\n",
       "      <th>vehicle class</th>\n",
       "      <th>total claim amount</th>\n",
       "    </tr>\n",
       "  </thead>\n",
       "  <tbody>\n",
       "    <tr>\n",
       "      <th>0</th>\n",
       "      <td>RB50392</td>\n",
       "      <td>Washington</td>\n",
       "      <td>NaN</td>\n",
       "      <td>Master</td>\n",
       "      <td>NaN</td>\n",
       "      <td>0.0</td>\n",
       "      <td>1000.0</td>\n",
       "      <td>1/0/00</td>\n",
       "      <td>Personal Auto</td>\n",
       "      <td>Four-Door Car</td>\n",
       "      <td>2.704934</td>\n",
       "    </tr>\n",
       "    <tr>\n",
       "      <th>1</th>\n",
       "      <td>QZ44356</td>\n",
       "      <td>Arizona</td>\n",
       "      <td>F</td>\n",
       "      <td>Bachelor</td>\n",
       "      <td>697953.59%</td>\n",
       "      <td>0.0</td>\n",
       "      <td>94.0</td>\n",
       "      <td>1/0/00</td>\n",
       "      <td>Personal Auto</td>\n",
       "      <td>Four-Door Car</td>\n",
       "      <td>1131.464935</td>\n",
       "    </tr>\n",
       "    <tr>\n",
       "      <th>2</th>\n",
       "      <td>AI49188</td>\n",
       "      <td>Nevada</td>\n",
       "      <td>F</td>\n",
       "      <td>Bachelor</td>\n",
       "      <td>1288743.17%</td>\n",
       "      <td>48767.0</td>\n",
       "      <td>108.0</td>\n",
       "      <td>1/0/00</td>\n",
       "      <td>Personal Auto</td>\n",
       "      <td>Two-Door Car</td>\n",
       "      <td>566.472247</td>\n",
       "    </tr>\n",
       "    <tr>\n",
       "      <th>3</th>\n",
       "      <td>WW63253</td>\n",
       "      <td>California</td>\n",
       "      <td>M</td>\n",
       "      <td>Bachelor</td>\n",
       "      <td>764586.18%</td>\n",
       "      <td>0.0</td>\n",
       "      <td>106.0</td>\n",
       "      <td>1/0/00</td>\n",
       "      <td>Corporate Auto</td>\n",
       "      <td>SUV</td>\n",
       "      <td>529.881344</td>\n",
       "    </tr>\n",
       "    <tr>\n",
       "      <th>4</th>\n",
       "      <td>GA49547</td>\n",
       "      <td>Washington</td>\n",
       "      <td>M</td>\n",
       "      <td>High School or Below</td>\n",
       "      <td>536307.65%</td>\n",
       "      <td>36357.0</td>\n",
       "      <td>68.0</td>\n",
       "      <td>1/0/00</td>\n",
       "      <td>Personal Auto</td>\n",
       "      <td>Four-Door Car</td>\n",
       "      <td>17.269323</td>\n",
       "    </tr>\n",
       "  </tbody>\n",
       "</table>\n",
       "</div>"
      ],
      "text/plain": [
       "  customer          st gender             education customer lifetime value  \\\n",
       "0  RB50392  Washington    NaN                Master                     NaN   \n",
       "1  QZ44356     Arizona      F              Bachelor              697953.59%   \n",
       "2  AI49188      Nevada      F              Bachelor             1288743.17%   \n",
       "3  WW63253  California      M              Bachelor              764586.18%   \n",
       "4  GA49547  Washington      M  High School or Below              536307.65%   \n",
       "\n",
       "    income  monthly premium auto number of open complaints     policy type  \\\n",
       "0      0.0                1000.0                    1/0/00   Personal Auto   \n",
       "1      0.0                  94.0                    1/0/00   Personal Auto   \n",
       "2  48767.0                 108.0                    1/0/00   Personal Auto   \n",
       "3      0.0                 106.0                    1/0/00  Corporate Auto   \n",
       "4  36357.0                  68.0                    1/0/00   Personal Auto   \n",
       "\n",
       "   vehicle class  total claim amount  \n",
       "0  Four-Door Car            2.704934  \n",
       "1  Four-Door Car         1131.464935  \n",
       "2   Two-Door Car          566.472247  \n",
       "3            SUV          529.881344  \n",
       "4  Four-Door Car           17.269323  "
      ]
     },
     "execution_count": 5,
     "metadata": {},
     "output_type": "execute_result"
    }
   ],
   "source": [
    "insurance_data.head()"
   ]
  },
  {
   "cell_type": "code",
   "execution_count": 6,
   "id": "4f6cfbf7",
   "metadata": {},
   "outputs": [],
   "source": [
    "insurance_data.columns= insurance_data.columns.str.replace(' ' , '-')"
   ]
  },
  {
   "cell_type": "code",
   "execution_count": 7,
   "id": "f9b588b8",
   "metadata": {},
   "outputs": [],
   "source": [
    "insurance_data = insurance_data.rename(columns = {'st':'state'})"
   ]
  },
  {
   "cell_type": "code",
   "execution_count": 8,
   "id": "8cb5b269",
   "metadata": {},
   "outputs": [
    {
     "data": {
      "text/html": [
       "<div>\n",
       "<style scoped>\n",
       "    .dataframe tbody tr th:only-of-type {\n",
       "        vertical-align: middle;\n",
       "    }\n",
       "\n",
       "    .dataframe tbody tr th {\n",
       "        vertical-align: top;\n",
       "    }\n",
       "\n",
       "    .dataframe thead th {\n",
       "        text-align: right;\n",
       "    }\n",
       "</style>\n",
       "<table border=\"1\" class=\"dataframe\">\n",
       "  <thead>\n",
       "    <tr style=\"text-align: right;\">\n",
       "      <th></th>\n",
       "      <th>customer</th>\n",
       "      <th>state</th>\n",
       "      <th>gender</th>\n",
       "      <th>education</th>\n",
       "      <th>customer-lifetime-value</th>\n",
       "      <th>income</th>\n",
       "      <th>monthly-premium-auto</th>\n",
       "      <th>number-of-open-complaints</th>\n",
       "      <th>policy-type</th>\n",
       "      <th>vehicle-class</th>\n",
       "      <th>total-claim-amount</th>\n",
       "    </tr>\n",
       "  </thead>\n",
       "  <tbody>\n",
       "    <tr>\n",
       "      <th>0</th>\n",
       "      <td>RB50392</td>\n",
       "      <td>Washington</td>\n",
       "      <td>NaN</td>\n",
       "      <td>Master</td>\n",
       "      <td>NaN</td>\n",
       "      <td>0.0</td>\n",
       "      <td>1000.0</td>\n",
       "      <td>1/0/00</td>\n",
       "      <td>Personal Auto</td>\n",
       "      <td>Four-Door Car</td>\n",
       "      <td>2.704934</td>\n",
       "    </tr>\n",
       "    <tr>\n",
       "      <th>1</th>\n",
       "      <td>QZ44356</td>\n",
       "      <td>Arizona</td>\n",
       "      <td>F</td>\n",
       "      <td>Bachelor</td>\n",
       "      <td>697953.59%</td>\n",
       "      <td>0.0</td>\n",
       "      <td>94.0</td>\n",
       "      <td>1/0/00</td>\n",
       "      <td>Personal Auto</td>\n",
       "      <td>Four-Door Car</td>\n",
       "      <td>1131.464935</td>\n",
       "    </tr>\n",
       "    <tr>\n",
       "      <th>2</th>\n",
       "      <td>AI49188</td>\n",
       "      <td>Nevada</td>\n",
       "      <td>F</td>\n",
       "      <td>Bachelor</td>\n",
       "      <td>1288743.17%</td>\n",
       "      <td>48767.0</td>\n",
       "      <td>108.0</td>\n",
       "      <td>1/0/00</td>\n",
       "      <td>Personal Auto</td>\n",
       "      <td>Two-Door Car</td>\n",
       "      <td>566.472247</td>\n",
       "    </tr>\n",
       "    <tr>\n",
       "      <th>3</th>\n",
       "      <td>WW63253</td>\n",
       "      <td>California</td>\n",
       "      <td>M</td>\n",
       "      <td>Bachelor</td>\n",
       "      <td>764586.18%</td>\n",
       "      <td>0.0</td>\n",
       "      <td>106.0</td>\n",
       "      <td>1/0/00</td>\n",
       "      <td>Corporate Auto</td>\n",
       "      <td>SUV</td>\n",
       "      <td>529.881344</td>\n",
       "    </tr>\n",
       "    <tr>\n",
       "      <th>4</th>\n",
       "      <td>GA49547</td>\n",
       "      <td>Washington</td>\n",
       "      <td>M</td>\n",
       "      <td>High School or Below</td>\n",
       "      <td>536307.65%</td>\n",
       "      <td>36357.0</td>\n",
       "      <td>68.0</td>\n",
       "      <td>1/0/00</td>\n",
       "      <td>Personal Auto</td>\n",
       "      <td>Four-Door Car</td>\n",
       "      <td>17.269323</td>\n",
       "    </tr>\n",
       "  </tbody>\n",
       "</table>\n",
       "</div>"
      ],
      "text/plain": [
       "  customer       state gender             education customer-lifetime-value  \\\n",
       "0  RB50392  Washington    NaN                Master                     NaN   \n",
       "1  QZ44356     Arizona      F              Bachelor              697953.59%   \n",
       "2  AI49188      Nevada      F              Bachelor             1288743.17%   \n",
       "3  WW63253  California      M              Bachelor              764586.18%   \n",
       "4  GA49547  Washington      M  High School or Below              536307.65%   \n",
       "\n",
       "    income  monthly-premium-auto number-of-open-complaints     policy-type  \\\n",
       "0      0.0                1000.0                    1/0/00   Personal Auto   \n",
       "1      0.0                  94.0                    1/0/00   Personal Auto   \n",
       "2  48767.0                 108.0                    1/0/00   Personal Auto   \n",
       "3      0.0                 106.0                    1/0/00  Corporate Auto   \n",
       "4  36357.0                  68.0                    1/0/00   Personal Auto   \n",
       "\n",
       "   vehicle-class  total-claim-amount  \n",
       "0  Four-Door Car            2.704934  \n",
       "1  Four-Door Car         1131.464935  \n",
       "2   Two-Door Car          566.472247  \n",
       "3            SUV          529.881344  \n",
       "4  Four-Door Car           17.269323  "
      ]
     },
     "execution_count": 8,
     "metadata": {},
     "output_type": "execute_result"
    }
   ],
   "source": [
    "insurance_data.head()"
   ]
  },
  {
   "cell_type": "code",
   "execution_count": 9,
   "id": "6f039ccd",
   "metadata": {},
   "outputs": [
    {
     "data": {
      "text/plain": [
       "array([nan, 'F', 'M', 'Femal', 'Male', 'female'], dtype=object)"
      ]
     },
     "execution_count": 9,
     "metadata": {},
     "output_type": "execute_result"
    }
   ],
   "source": [
    "insurance_data['gender'].unique()"
   ]
  },
  {
   "cell_type": "code",
   "execution_count": 10,
   "id": "f8bad656",
   "metadata": {},
   "outputs": [
    {
     "data": {
      "text/plain": [
       "F         457\n",
       "M         413\n",
       "Male       39\n",
       "female     28\n",
       "Femal      17\n",
       "Name: gender, dtype: int64"
      ]
     },
     "execution_count": 10,
     "metadata": {},
     "output_type": "execute_result"
    }
   ],
   "source": [
    "insurance_data['gender'].value_counts()"
   ]
  },
  {
   "cell_type": "code",
   "execution_count": 11,
   "id": "b3e541dc",
   "metadata": {},
   "outputs": [],
   "source": [
    "insurance_data = insurance_data.replace('female', \"F\")"
   ]
  },
  {
   "cell_type": "code",
   "execution_count": 12,
   "id": "b39aaff6",
   "metadata": {},
   "outputs": [],
   "source": [
    "insurance_data = insurance_data.replace('Femal', \"F\")"
   ]
  },
  {
   "cell_type": "code",
   "execution_count": 13,
   "id": "7f5803d9",
   "metadata": {},
   "outputs": [],
   "source": [
    "insurance_data = insurance_data.replace('Male', \"M\")"
   ]
  },
  {
   "cell_type": "code",
   "execution_count": 14,
   "id": "fe75b45a",
   "metadata": {},
   "outputs": [
    {
     "data": {
      "text/html": [
       "<div>\n",
       "<style scoped>\n",
       "    .dataframe tbody tr th:only-of-type {\n",
       "        vertical-align: middle;\n",
       "    }\n",
       "\n",
       "    .dataframe tbody tr th {\n",
       "        vertical-align: top;\n",
       "    }\n",
       "\n",
       "    .dataframe thead th {\n",
       "        text-align: right;\n",
       "    }\n",
       "</style>\n",
       "<table border=\"1\" class=\"dataframe\">\n",
       "  <thead>\n",
       "    <tr style=\"text-align: right;\">\n",
       "      <th></th>\n",
       "      <th>customer</th>\n",
       "      <th>state</th>\n",
       "      <th>gender</th>\n",
       "      <th>education</th>\n",
       "      <th>customer-lifetime-value</th>\n",
       "      <th>income</th>\n",
       "      <th>monthly-premium-auto</th>\n",
       "      <th>number-of-open-complaints</th>\n",
       "      <th>policy-type</th>\n",
       "      <th>vehicle-class</th>\n",
       "      <th>total-claim-amount</th>\n",
       "    </tr>\n",
       "  </thead>\n",
       "  <tbody>\n",
       "    <tr>\n",
       "      <th>0</th>\n",
       "      <td>RB50392</td>\n",
       "      <td>Washington</td>\n",
       "      <td>NaN</td>\n",
       "      <td>Master</td>\n",
       "      <td>NaN</td>\n",
       "      <td>0.0</td>\n",
       "      <td>1000.0</td>\n",
       "      <td>1/0/00</td>\n",
       "      <td>Personal Auto</td>\n",
       "      <td>Four-Door Car</td>\n",
       "      <td>2.704934</td>\n",
       "    </tr>\n",
       "    <tr>\n",
       "      <th>1</th>\n",
       "      <td>QZ44356</td>\n",
       "      <td>Arizona</td>\n",
       "      <td>F</td>\n",
       "      <td>Bachelor</td>\n",
       "      <td>697953.59%</td>\n",
       "      <td>0.0</td>\n",
       "      <td>94.0</td>\n",
       "      <td>1/0/00</td>\n",
       "      <td>Personal Auto</td>\n",
       "      <td>Four-Door Car</td>\n",
       "      <td>1131.464935</td>\n",
       "    </tr>\n",
       "    <tr>\n",
       "      <th>2</th>\n",
       "      <td>AI49188</td>\n",
       "      <td>Nevada</td>\n",
       "      <td>F</td>\n",
       "      <td>Bachelor</td>\n",
       "      <td>1288743.17%</td>\n",
       "      <td>48767.0</td>\n",
       "      <td>108.0</td>\n",
       "      <td>1/0/00</td>\n",
       "      <td>Personal Auto</td>\n",
       "      <td>Two-Door Car</td>\n",
       "      <td>566.472247</td>\n",
       "    </tr>\n",
       "    <tr>\n",
       "      <th>3</th>\n",
       "      <td>WW63253</td>\n",
       "      <td>California</td>\n",
       "      <td>M</td>\n",
       "      <td>Bachelor</td>\n",
       "      <td>764586.18%</td>\n",
       "      <td>0.0</td>\n",
       "      <td>106.0</td>\n",
       "      <td>1/0/00</td>\n",
       "      <td>Corporate Auto</td>\n",
       "      <td>SUV</td>\n",
       "      <td>529.881344</td>\n",
       "    </tr>\n",
       "    <tr>\n",
       "      <th>4</th>\n",
       "      <td>GA49547</td>\n",
       "      <td>Washington</td>\n",
       "      <td>M</td>\n",
       "      <td>High School or Below</td>\n",
       "      <td>536307.65%</td>\n",
       "      <td>36357.0</td>\n",
       "      <td>68.0</td>\n",
       "      <td>1/0/00</td>\n",
       "      <td>Personal Auto</td>\n",
       "      <td>Four-Door Car</td>\n",
       "      <td>17.269323</td>\n",
       "    </tr>\n",
       "  </tbody>\n",
       "</table>\n",
       "</div>"
      ],
      "text/plain": [
       "  customer       state gender             education customer-lifetime-value  \\\n",
       "0  RB50392  Washington    NaN                Master                     NaN   \n",
       "1  QZ44356     Arizona      F              Bachelor              697953.59%   \n",
       "2  AI49188      Nevada      F              Bachelor             1288743.17%   \n",
       "3  WW63253  California      M              Bachelor              764586.18%   \n",
       "4  GA49547  Washington      M  High School or Below              536307.65%   \n",
       "\n",
       "    income  monthly-premium-auto number-of-open-complaints     policy-type  \\\n",
       "0      0.0                1000.0                    1/0/00   Personal Auto   \n",
       "1      0.0                  94.0                    1/0/00   Personal Auto   \n",
       "2  48767.0                 108.0                    1/0/00   Personal Auto   \n",
       "3      0.0                 106.0                    1/0/00  Corporate Auto   \n",
       "4  36357.0                  68.0                    1/0/00   Personal Auto   \n",
       "\n",
       "   vehicle-class  total-claim-amount  \n",
       "0  Four-Door Car            2.704934  \n",
       "1  Four-Door Car         1131.464935  \n",
       "2   Two-Door Car          566.472247  \n",
       "3            SUV          529.881344  \n",
       "4  Four-Door Car           17.269323  "
      ]
     },
     "execution_count": 14,
     "metadata": {},
     "output_type": "execute_result"
    }
   ],
   "source": [
    "insurance_data.head()"
   ]
  },
  {
   "cell_type": "code",
   "execution_count": 15,
   "id": "357fcde8",
   "metadata": {},
   "outputs": [
    {
     "data": {
      "text/plain": [
       "F    502\n",
       "M    452\n",
       "Name: gender, dtype: int64"
      ]
     },
     "execution_count": 15,
     "metadata": {},
     "output_type": "execute_result"
    }
   ],
   "source": [
    "insurance_data['gender'].value_counts()"
   ]
  },
  {
   "cell_type": "code",
   "execution_count": 16,
   "id": "8f370d4c",
   "metadata": {},
   "outputs": [
    {
     "data": {
      "text/plain": [
       "Oregon        320\n",
       "California    211\n",
       "Arizona       186\n",
       "Cali          120\n",
       "Nevada         98\n",
       "Washington     81\n",
       "WA             30\n",
       "AZ             25\n",
       "Name: state, dtype: int64"
      ]
     },
     "execution_count": 16,
     "metadata": {},
     "output_type": "execute_result"
    }
   ],
   "source": [
    "insurance_data['state'].value_counts()"
   ]
  },
  {
   "cell_type": "code",
   "execution_count": 17,
   "id": "41d89775",
   "metadata": {},
   "outputs": [],
   "source": [
    "insurance_data['state'] = insurance_data['state'].replace ({'AZ':'Arizona', 'WA':'Washington', 'Cali':'California'})"
   ]
  },
  {
   "cell_type": "code",
   "execution_count": 18,
   "id": "c39aacff",
   "metadata": {},
   "outputs": [
    {
     "data": {
      "text/plain": [
       "California    331\n",
       "Oregon        320\n",
       "Arizona       211\n",
       "Washington    111\n",
       "Nevada         98\n",
       "Name: state, dtype: int64"
      ]
     },
     "execution_count": 18,
     "metadata": {},
     "output_type": "execute_result"
    }
   ],
   "source": [
    "insurance_data['state'].value_counts()"
   ]
  },
  {
   "cell_type": "code",
   "execution_count": 19,
   "id": "96e57d65",
   "metadata": {},
   "outputs": [],
   "source": [
    "insurance_data['education'] = insurance_data['education'].replace('Bachelors','Bachelor')"
   ]
  },
  {
   "cell_type": "code",
   "execution_count": 20,
   "id": "8b5754c4",
   "metadata": {},
   "outputs": [
    {
     "data": {
      "text/plain": [
       "Bachelor                331\n",
       "College                 313\n",
       "High School or Below    296\n",
       "Master                   94\n",
       "Doctor                   37\n",
       "Name: education, dtype: int64"
      ]
     },
     "execution_count": 20,
     "metadata": {},
     "output_type": "execute_result"
    }
   ],
   "source": [
    "insurance_data['education'].value_counts()"
   ]
  },
  {
   "cell_type": "code",
   "execution_count": 21,
   "id": "0bdff3ac",
   "metadata": {},
   "outputs": [],
   "source": [
    "insurance_data['customer-lifetime-value'] = insurance_data['customer-lifetime-value'].str.rstrip('%').astype('float')"
   ]
  },
  {
   "cell_type": "code",
   "execution_count": 22,
   "id": "67b4622a",
   "metadata": {},
   "outputs": [
    {
     "data": {
      "text/html": [
       "<div>\n",
       "<style scoped>\n",
       "    .dataframe tbody tr th:only-of-type {\n",
       "        vertical-align: middle;\n",
       "    }\n",
       "\n",
       "    .dataframe tbody tr th {\n",
       "        vertical-align: top;\n",
       "    }\n",
       "\n",
       "    .dataframe thead th {\n",
       "        text-align: right;\n",
       "    }\n",
       "</style>\n",
       "<table border=\"1\" class=\"dataframe\">\n",
       "  <thead>\n",
       "    <tr style=\"text-align: right;\">\n",
       "      <th></th>\n",
       "      <th>customer</th>\n",
       "      <th>state</th>\n",
       "      <th>gender</th>\n",
       "      <th>education</th>\n",
       "      <th>customer-lifetime-value</th>\n",
       "      <th>income</th>\n",
       "      <th>monthly-premium-auto</th>\n",
       "      <th>number-of-open-complaints</th>\n",
       "      <th>policy-type</th>\n",
       "      <th>vehicle-class</th>\n",
       "      <th>total-claim-amount</th>\n",
       "    </tr>\n",
       "  </thead>\n",
       "  <tbody>\n",
       "    <tr>\n",
       "      <th>0</th>\n",
       "      <td>RB50392</td>\n",
       "      <td>Washington</td>\n",
       "      <td>NaN</td>\n",
       "      <td>Master</td>\n",
       "      <td>NaN</td>\n",
       "      <td>0.0</td>\n",
       "      <td>1000.0</td>\n",
       "      <td>1/0/00</td>\n",
       "      <td>Personal Auto</td>\n",
       "      <td>Four-Door Car</td>\n",
       "      <td>2.704934</td>\n",
       "    </tr>\n",
       "    <tr>\n",
       "      <th>1</th>\n",
       "      <td>QZ44356</td>\n",
       "      <td>Arizona</td>\n",
       "      <td>F</td>\n",
       "      <td>Bachelor</td>\n",
       "      <td>697953.59</td>\n",
       "      <td>0.0</td>\n",
       "      <td>94.0</td>\n",
       "      <td>1/0/00</td>\n",
       "      <td>Personal Auto</td>\n",
       "      <td>Four-Door Car</td>\n",
       "      <td>1131.464935</td>\n",
       "    </tr>\n",
       "    <tr>\n",
       "      <th>2</th>\n",
       "      <td>AI49188</td>\n",
       "      <td>Nevada</td>\n",
       "      <td>F</td>\n",
       "      <td>Bachelor</td>\n",
       "      <td>1288743.17</td>\n",
       "      <td>48767.0</td>\n",
       "      <td>108.0</td>\n",
       "      <td>1/0/00</td>\n",
       "      <td>Personal Auto</td>\n",
       "      <td>Two-Door Car</td>\n",
       "      <td>566.472247</td>\n",
       "    </tr>\n",
       "    <tr>\n",
       "      <th>3</th>\n",
       "      <td>WW63253</td>\n",
       "      <td>California</td>\n",
       "      <td>M</td>\n",
       "      <td>Bachelor</td>\n",
       "      <td>764586.18</td>\n",
       "      <td>0.0</td>\n",
       "      <td>106.0</td>\n",
       "      <td>1/0/00</td>\n",
       "      <td>Corporate Auto</td>\n",
       "      <td>SUV</td>\n",
       "      <td>529.881344</td>\n",
       "    </tr>\n",
       "    <tr>\n",
       "      <th>4</th>\n",
       "      <td>GA49547</td>\n",
       "      <td>Washington</td>\n",
       "      <td>M</td>\n",
       "      <td>High School or Below</td>\n",
       "      <td>536307.65</td>\n",
       "      <td>36357.0</td>\n",
       "      <td>68.0</td>\n",
       "      <td>1/0/00</td>\n",
       "      <td>Personal Auto</td>\n",
       "      <td>Four-Door Car</td>\n",
       "      <td>17.269323</td>\n",
       "    </tr>\n",
       "  </tbody>\n",
       "</table>\n",
       "</div>"
      ],
      "text/plain": [
       "  customer       state gender             education  customer-lifetime-value  \\\n",
       "0  RB50392  Washington    NaN                Master                      NaN   \n",
       "1  QZ44356     Arizona      F              Bachelor                697953.59   \n",
       "2  AI49188      Nevada      F              Bachelor               1288743.17   \n",
       "3  WW63253  California      M              Bachelor                764586.18   \n",
       "4  GA49547  Washington      M  High School or Below                536307.65   \n",
       "\n",
       "    income  monthly-premium-auto number-of-open-complaints     policy-type  \\\n",
       "0      0.0                1000.0                    1/0/00   Personal Auto   \n",
       "1      0.0                  94.0                    1/0/00   Personal Auto   \n",
       "2  48767.0                 108.0                    1/0/00   Personal Auto   \n",
       "3      0.0                 106.0                    1/0/00  Corporate Auto   \n",
       "4  36357.0                  68.0                    1/0/00   Personal Auto   \n",
       "\n",
       "   vehicle-class  total-claim-amount  \n",
       "0  Four-Door Car            2.704934  \n",
       "1  Four-Door Car         1131.464935  \n",
       "2   Two-Door Car          566.472247  \n",
       "3            SUV          529.881344  \n",
       "4  Four-Door Car           17.269323  "
      ]
     },
     "execution_count": 22,
     "metadata": {},
     "output_type": "execute_result"
    }
   ],
   "source": [
    "insurance_data.head()"
   ]
  },
  {
   "cell_type": "code",
   "execution_count": 23,
   "id": "873017eb",
   "metadata": {},
   "outputs": [
    {
     "data": {
      "text/plain": [
       "Four-Door Car    576\n",
       "Two-Door Car     205\n",
       "SUV              199\n",
       "Sports Car        57\n",
       "Luxury SUV        20\n",
       "Luxury Car        14\n",
       "Name: vehicle-class, dtype: int64"
      ]
     },
     "execution_count": 23,
     "metadata": {},
     "output_type": "execute_result"
    }
   ],
   "source": [
    "insurance_data['vehicle-class'].value_counts()"
   ]
  },
  {
   "cell_type": "code",
   "execution_count": 24,
   "id": "88857967",
   "metadata": {},
   "outputs": [],
   "source": [
    "insurance_data['vehicle-class'] = insurance_data['vehicle-class'].replace({'Luxury Car':'Luxury', 'Luxury SUV':'Luxury', 'Sports Car':'Luxury'})"
   ]
  },
  {
   "cell_type": "code",
   "execution_count": 25,
   "id": "ffaf3ebb",
   "metadata": {},
   "outputs": [
    {
     "data": {
      "text/plain": [
       "Four-Door Car    576\n",
       "Two-Door Car     205\n",
       "SUV              199\n",
       "Luxury            91\n",
       "Name: vehicle-class, dtype: int64"
      ]
     },
     "execution_count": 25,
     "metadata": {},
     "output_type": "execute_result"
    }
   ],
   "source": [
    "insurance_data['vehicle-class'].value_counts()"
   ]
  },
  {
   "cell_type": "code",
   "execution_count": 26,
   "id": "87fb8d67",
   "metadata": {},
   "outputs": [
    {
     "data": {
      "text/plain": [
       "1/0/00    830\n",
       "1/1/00    138\n",
       "1/2/00     50\n",
       "1/3/00     34\n",
       "1/4/00     13\n",
       "1/5/00      6\n",
       "Name: number-of-open-complaints, dtype: int64"
      ]
     },
     "execution_count": 26,
     "metadata": {},
     "output_type": "execute_result"
    }
   ],
   "source": [
    "insurance_data['number-of-open-complaints'].value_counts()"
   ]
  },
  {
   "cell_type": "code",
   "execution_count": 27,
   "id": "7586ffac",
   "metadata": {},
   "outputs": [
    {
     "data": {
      "text/plain": [
       "array(['1/0/00', '1/2/00', '1/1/00', '1/3/00', '1/5/00', '1/4/00', nan],\n",
       "      dtype=object)"
      ]
     },
     "execution_count": 27,
     "metadata": {},
     "output_type": "execute_result"
    }
   ],
   "source": [
    "insurance_data['number-of-open-complaints'].unique()"
   ]
  },
  {
   "cell_type": "code",
   "execution_count": 28,
   "id": "ab196bf3",
   "metadata": {},
   "outputs": [],
   "source": [
    "insurance_data['number-of-open-complaints'] = insurance_data['number-of-open-complaints'].replace({'1/0/00':'0', '1/1/00':'1', '1/2/00':'2','1/3/00':'3', '1/4/00':'4','1/5/00':'5'})"
   ]
  },
  {
   "cell_type": "code",
   "execution_count": 29,
   "id": "852f3e67",
   "metadata": {
    "scrolled": true
   },
   "outputs": [
    {
     "data": {
      "text/plain": [
       "0    830\n",
       "1    138\n",
       "2     50\n",
       "3     34\n",
       "4     13\n",
       "5      6\n",
       "Name: number-of-open-complaints, dtype: int64"
      ]
     },
     "execution_count": 29,
     "metadata": {},
     "output_type": "execute_result"
    }
   ],
   "source": [
    "insurance_data['number-of-open-complaints'].value_counts()"
   ]
  },
  {
   "cell_type": "code",
   "execution_count": 30,
   "id": "bf3d1892",
   "metadata": {},
   "outputs": [
    {
     "data": {
      "text/plain": [
       "customer                      object\n",
       "state                         object\n",
       "gender                        object\n",
       "education                     object\n",
       "customer-lifetime-value      float64\n",
       "income                       float64\n",
       "monthly-premium-auto         float64\n",
       "number-of-open-complaints     object\n",
       "policy-type                   object\n",
       "vehicle-class                 object\n",
       "total-claim-amount           float64\n",
       "dtype: object"
      ]
     },
     "execution_count": 30,
     "metadata": {},
     "output_type": "execute_result"
    }
   ],
   "source": [
    "insurance_data.dtypes"
   ]
  },
  {
   "cell_type": "code",
   "execution_count": 31,
   "id": "055a9e05",
   "metadata": {},
   "outputs": [
    {
     "data": {
      "text/html": [
       "<div>\n",
       "<style scoped>\n",
       "    .dataframe tbody tr th:only-of-type {\n",
       "        vertical-align: middle;\n",
       "    }\n",
       "\n",
       "    .dataframe tbody tr th {\n",
       "        vertical-align: top;\n",
       "    }\n",
       "\n",
       "    .dataframe thead th {\n",
       "        text-align: right;\n",
       "    }\n",
       "</style>\n",
       "<table border=\"1\" class=\"dataframe\">\n",
       "  <thead>\n",
       "    <tr style=\"text-align: right;\">\n",
       "      <th></th>\n",
       "      <th>customer</th>\n",
       "      <th>state</th>\n",
       "      <th>gender</th>\n",
       "      <th>education</th>\n",
       "      <th>customer-lifetime-value</th>\n",
       "      <th>income</th>\n",
       "      <th>monthly-premium-auto</th>\n",
       "      <th>number-of-open-complaints</th>\n",
       "      <th>policy-type</th>\n",
       "      <th>vehicle-class</th>\n",
       "      <th>total-claim-amount</th>\n",
       "    </tr>\n",
       "  </thead>\n",
       "  <tbody>\n",
       "    <tr>\n",
       "      <th>1072</th>\n",
       "      <td>NaN</td>\n",
       "      <td>NaN</td>\n",
       "      <td>NaN</td>\n",
       "      <td>NaN</td>\n",
       "      <td>NaN</td>\n",
       "      <td>NaN</td>\n",
       "      <td>NaN</td>\n",
       "      <td>NaN</td>\n",
       "      <td>NaN</td>\n",
       "      <td>NaN</td>\n",
       "      <td>NaN</td>\n",
       "    </tr>\n",
       "    <tr>\n",
       "      <th>1073</th>\n",
       "      <td>NaN</td>\n",
       "      <td>NaN</td>\n",
       "      <td>NaN</td>\n",
       "      <td>NaN</td>\n",
       "      <td>NaN</td>\n",
       "      <td>NaN</td>\n",
       "      <td>NaN</td>\n",
       "      <td>NaN</td>\n",
       "      <td>NaN</td>\n",
       "      <td>NaN</td>\n",
       "      <td>NaN</td>\n",
       "    </tr>\n",
       "    <tr>\n",
       "      <th>1074</th>\n",
       "      <td>NaN</td>\n",
       "      <td>NaN</td>\n",
       "      <td>NaN</td>\n",
       "      <td>NaN</td>\n",
       "      <td>NaN</td>\n",
       "      <td>NaN</td>\n",
       "      <td>NaN</td>\n",
       "      <td>NaN</td>\n",
       "      <td>NaN</td>\n",
       "      <td>NaN</td>\n",
       "      <td>NaN</td>\n",
       "    </tr>\n",
       "    <tr>\n",
       "      <th>1075</th>\n",
       "      <td>NaN</td>\n",
       "      <td>NaN</td>\n",
       "      <td>NaN</td>\n",
       "      <td>NaN</td>\n",
       "      <td>NaN</td>\n",
       "      <td>NaN</td>\n",
       "      <td>NaN</td>\n",
       "      <td>NaN</td>\n",
       "      <td>NaN</td>\n",
       "      <td>NaN</td>\n",
       "      <td>NaN</td>\n",
       "    </tr>\n",
       "    <tr>\n",
       "      <th>1076</th>\n",
       "      <td>NaN</td>\n",
       "      <td>NaN</td>\n",
       "      <td>NaN</td>\n",
       "      <td>NaN</td>\n",
       "      <td>NaN</td>\n",
       "      <td>NaN</td>\n",
       "      <td>NaN</td>\n",
       "      <td>NaN</td>\n",
       "      <td>NaN</td>\n",
       "      <td>NaN</td>\n",
       "      <td>NaN</td>\n",
       "    </tr>\n",
       "    <tr>\n",
       "      <th>...</th>\n",
       "      <td>...</td>\n",
       "      <td>...</td>\n",
       "      <td>...</td>\n",
       "      <td>...</td>\n",
       "      <td>...</td>\n",
       "      <td>...</td>\n",
       "      <td>...</td>\n",
       "      <td>...</td>\n",
       "      <td>...</td>\n",
       "      <td>...</td>\n",
       "      <td>...</td>\n",
       "    </tr>\n",
       "    <tr>\n",
       "      <th>4003</th>\n",
       "      <td>NaN</td>\n",
       "      <td>NaN</td>\n",
       "      <td>NaN</td>\n",
       "      <td>NaN</td>\n",
       "      <td>NaN</td>\n",
       "      <td>NaN</td>\n",
       "      <td>NaN</td>\n",
       "      <td>NaN</td>\n",
       "      <td>NaN</td>\n",
       "      <td>NaN</td>\n",
       "      <td>NaN</td>\n",
       "    </tr>\n",
       "    <tr>\n",
       "      <th>4004</th>\n",
       "      <td>NaN</td>\n",
       "      <td>NaN</td>\n",
       "      <td>NaN</td>\n",
       "      <td>NaN</td>\n",
       "      <td>NaN</td>\n",
       "      <td>NaN</td>\n",
       "      <td>NaN</td>\n",
       "      <td>NaN</td>\n",
       "      <td>NaN</td>\n",
       "      <td>NaN</td>\n",
       "      <td>NaN</td>\n",
       "    </tr>\n",
       "    <tr>\n",
       "      <th>4005</th>\n",
       "      <td>NaN</td>\n",
       "      <td>NaN</td>\n",
       "      <td>NaN</td>\n",
       "      <td>NaN</td>\n",
       "      <td>NaN</td>\n",
       "      <td>NaN</td>\n",
       "      <td>NaN</td>\n",
       "      <td>NaN</td>\n",
       "      <td>NaN</td>\n",
       "      <td>NaN</td>\n",
       "      <td>NaN</td>\n",
       "    </tr>\n",
       "    <tr>\n",
       "      <th>4006</th>\n",
       "      <td>NaN</td>\n",
       "      <td>NaN</td>\n",
       "      <td>NaN</td>\n",
       "      <td>NaN</td>\n",
       "      <td>NaN</td>\n",
       "      <td>NaN</td>\n",
       "      <td>NaN</td>\n",
       "      <td>NaN</td>\n",
       "      <td>NaN</td>\n",
       "      <td>NaN</td>\n",
       "      <td>NaN</td>\n",
       "    </tr>\n",
       "    <tr>\n",
       "      <th>4007</th>\n",
       "      <td>NaN</td>\n",
       "      <td>NaN</td>\n",
       "      <td>NaN</td>\n",
       "      <td>NaN</td>\n",
       "      <td>NaN</td>\n",
       "      <td>NaN</td>\n",
       "      <td>NaN</td>\n",
       "      <td>NaN</td>\n",
       "      <td>NaN</td>\n",
       "      <td>NaN</td>\n",
       "      <td>NaN</td>\n",
       "    </tr>\n",
       "  </tbody>\n",
       "</table>\n",
       "<p>2936 rows × 11 columns</p>\n",
       "</div>"
      ],
      "text/plain": [
       "     customer state gender education  customer-lifetime-value  income  \\\n",
       "1072      NaN   NaN    NaN       NaN                      NaN     NaN   \n",
       "1073      NaN   NaN    NaN       NaN                      NaN     NaN   \n",
       "1074      NaN   NaN    NaN       NaN                      NaN     NaN   \n",
       "1075      NaN   NaN    NaN       NaN                      NaN     NaN   \n",
       "1076      NaN   NaN    NaN       NaN                      NaN     NaN   \n",
       "...       ...   ...    ...       ...                      ...     ...   \n",
       "4003      NaN   NaN    NaN       NaN                      NaN     NaN   \n",
       "4004      NaN   NaN    NaN       NaN                      NaN     NaN   \n",
       "4005      NaN   NaN    NaN       NaN                      NaN     NaN   \n",
       "4006      NaN   NaN    NaN       NaN                      NaN     NaN   \n",
       "4007      NaN   NaN    NaN       NaN                      NaN     NaN   \n",
       "\n",
       "      monthly-premium-auto number-of-open-complaints policy-type  \\\n",
       "1072                   NaN                       NaN         NaN   \n",
       "1073                   NaN                       NaN         NaN   \n",
       "1074                   NaN                       NaN         NaN   \n",
       "1075                   NaN                       NaN         NaN   \n",
       "1076                   NaN                       NaN         NaN   \n",
       "...                    ...                       ...         ...   \n",
       "4003                   NaN                       NaN         NaN   \n",
       "4004                   NaN                       NaN         NaN   \n",
       "4005                   NaN                       NaN         NaN   \n",
       "4006                   NaN                       NaN         NaN   \n",
       "4007                   NaN                       NaN         NaN   \n",
       "\n",
       "     vehicle-class  total-claim-amount  \n",
       "1072           NaN                 NaN  \n",
       "1073           NaN                 NaN  \n",
       "1074           NaN                 NaN  \n",
       "1075           NaN                 NaN  \n",
       "1076           NaN                 NaN  \n",
       "...            ...                 ...  \n",
       "4003           NaN                 NaN  \n",
       "4004           NaN                 NaN  \n",
       "4005           NaN                 NaN  \n",
       "4006           NaN                 NaN  \n",
       "4007           NaN                 NaN  \n",
       "\n",
       "[2936 rows x 11 columns]"
      ]
     },
     "execution_count": 31,
     "metadata": {},
     "output_type": "execute_result"
    }
   ],
   "source": [
    "insurance_data[insurance_data.duplicated()]"
   ]
  },
  {
   "cell_type": "code",
   "execution_count": 32,
   "id": "2c251962",
   "metadata": {},
   "outputs": [],
   "source": [
    "# There are rows with NaN values, so i decided to delete them\n",
    "insurance_data = insurance_data.drop_duplicates()"
   ]
  },
  {
   "cell_type": "code",
   "execution_count": 33,
   "id": "53c8b864",
   "metadata": {},
   "outputs": [
    {
     "data": {
      "text/plain": [
       "(1072, 11)"
      ]
     },
     "execution_count": 33,
     "metadata": {},
     "output_type": "execute_result"
    }
   ],
   "source": [
    "insurance_data.shape"
   ]
  },
  {
   "cell_type": "code",
   "execution_count": 34,
   "id": "b16c707c",
   "metadata": {},
   "outputs": [],
   "source": [
    "insurance_data = insurance_data.reset_index()"
   ]
  },
  {
   "cell_type": "code",
   "execution_count": 36,
   "id": "fe3db5a1",
   "metadata": {
    "scrolled": true
   },
   "outputs": [],
   "source": [
    "insurance_data.to_csv(r'C:\\Users\\sorig\\Desktop\\test\\insurance_data.csv', index=False)"
   ]
  },
  {
   "cell_type": "code",
   "execution_count": 37,
   "id": "7de78dde",
   "metadata": {},
   "outputs": [
    {
     "data": {
      "text/html": [
       "<div>\n",
       "<style scoped>\n",
       "    .dataframe tbody tr th:only-of-type {\n",
       "        vertical-align: middle;\n",
       "    }\n",
       "\n",
       "    .dataframe tbody tr th {\n",
       "        vertical-align: top;\n",
       "    }\n",
       "\n",
       "    .dataframe thead th {\n",
       "        text-align: right;\n",
       "    }\n",
       "</style>\n",
       "<table border=\"1\" class=\"dataframe\">\n",
       "  <thead>\n",
       "    <tr style=\"text-align: right;\">\n",
       "      <th></th>\n",
       "      <th>index</th>\n",
       "      <th>customer</th>\n",
       "      <th>state</th>\n",
       "      <th>gender</th>\n",
       "      <th>education</th>\n",
       "      <th>customer-lifetime-value</th>\n",
       "      <th>income</th>\n",
       "      <th>monthly-premium-auto</th>\n",
       "      <th>number-of-open-complaints</th>\n",
       "      <th>policy-type</th>\n",
       "      <th>vehicle-class</th>\n",
       "      <th>total-claim-amount</th>\n",
       "    </tr>\n",
       "  </thead>\n",
       "  <tbody>\n",
       "    <tr>\n",
       "      <th>0</th>\n",
       "      <td>0</td>\n",
       "      <td>RB50392</td>\n",
       "      <td>Washington</td>\n",
       "      <td>NaN</td>\n",
       "      <td>Master</td>\n",
       "      <td>NaN</td>\n",
       "      <td>0.0</td>\n",
       "      <td>1000.0</td>\n",
       "      <td>0</td>\n",
       "      <td>Personal Auto</td>\n",
       "      <td>Four-Door Car</td>\n",
       "      <td>2.704934</td>\n",
       "    </tr>\n",
       "    <tr>\n",
       "      <th>1</th>\n",
       "      <td>1</td>\n",
       "      <td>QZ44356</td>\n",
       "      <td>Arizona</td>\n",
       "      <td>F</td>\n",
       "      <td>Bachelor</td>\n",
       "      <td>697953.59</td>\n",
       "      <td>0.0</td>\n",
       "      <td>94.0</td>\n",
       "      <td>0</td>\n",
       "      <td>Personal Auto</td>\n",
       "      <td>Four-Door Car</td>\n",
       "      <td>1131.464935</td>\n",
       "    </tr>\n",
       "    <tr>\n",
       "      <th>2</th>\n",
       "      <td>2</td>\n",
       "      <td>AI49188</td>\n",
       "      <td>Nevada</td>\n",
       "      <td>F</td>\n",
       "      <td>Bachelor</td>\n",
       "      <td>1288743.17</td>\n",
       "      <td>48767.0</td>\n",
       "      <td>108.0</td>\n",
       "      <td>0</td>\n",
       "      <td>Personal Auto</td>\n",
       "      <td>Two-Door Car</td>\n",
       "      <td>566.472247</td>\n",
       "    </tr>\n",
       "    <tr>\n",
       "      <th>3</th>\n",
       "      <td>3</td>\n",
       "      <td>WW63253</td>\n",
       "      <td>California</td>\n",
       "      <td>M</td>\n",
       "      <td>Bachelor</td>\n",
       "      <td>764586.18</td>\n",
       "      <td>0.0</td>\n",
       "      <td>106.0</td>\n",
       "      <td>0</td>\n",
       "      <td>Corporate Auto</td>\n",
       "      <td>SUV</td>\n",
       "      <td>529.881344</td>\n",
       "    </tr>\n",
       "    <tr>\n",
       "      <th>4</th>\n",
       "      <td>4</td>\n",
       "      <td>GA49547</td>\n",
       "      <td>Washington</td>\n",
       "      <td>M</td>\n",
       "      <td>High School or Below</td>\n",
       "      <td>536307.65</td>\n",
       "      <td>36357.0</td>\n",
       "      <td>68.0</td>\n",
       "      <td>0</td>\n",
       "      <td>Personal Auto</td>\n",
       "      <td>Four-Door Car</td>\n",
       "      <td>17.269323</td>\n",
       "    </tr>\n",
       "  </tbody>\n",
       "</table>\n",
       "</div>"
      ],
      "text/plain": [
       "   index customer       state gender             education  \\\n",
       "0      0  RB50392  Washington    NaN                Master   \n",
       "1      1  QZ44356     Arizona      F              Bachelor   \n",
       "2      2  AI49188      Nevada      F              Bachelor   \n",
       "3      3  WW63253  California      M              Bachelor   \n",
       "4      4  GA49547  Washington      M  High School or Below   \n",
       "\n",
       "   customer-lifetime-value   income  monthly-premium-auto  \\\n",
       "0                      NaN      0.0                1000.0   \n",
       "1                697953.59      0.0                  94.0   \n",
       "2               1288743.17  48767.0                 108.0   \n",
       "3                764586.18      0.0                 106.0   \n",
       "4                536307.65  36357.0                  68.0   \n",
       "\n",
       "  number-of-open-complaints     policy-type  vehicle-class  total-claim-amount  \n",
       "0                         0   Personal Auto  Four-Door Car            2.704934  \n",
       "1                         0   Personal Auto  Four-Door Car         1131.464935  \n",
       "2                         0   Personal Auto   Two-Door Car          566.472247  \n",
       "3                         0  Corporate Auto            SUV          529.881344  \n",
       "4                         0   Personal Auto  Four-Door Car           17.269323  "
      ]
     },
     "execution_count": 37,
     "metadata": {},
     "output_type": "execute_result"
    }
   ],
   "source": [
    "insurance_data.head()"
   ]
  },
  {
   "cell_type": "code",
   "execution_count": 38,
   "id": "310e6918",
   "metadata": {},
   "outputs": [
    {
     "data": {
      "text/plain": [
       "array([nan, 'F', 'M'], dtype=object)"
      ]
     },
     "execution_count": 38,
     "metadata": {},
     "output_type": "execute_result"
    }
   ],
   "source": [
    "insurance_data['gender'].unique()"
   ]
  },
  {
   "cell_type": "code",
   "execution_count": 39,
   "id": "737096ff",
   "metadata": {},
   "outputs": [],
   "source": [
    "# I am using the mode to replace the null values\n",
    "insurance_data['gender'] = insurance_data['gender'].fillna('F')"
   ]
  },
  {
   "cell_type": "code",
   "execution_count": 40,
   "id": "9d678956",
   "metadata": {},
   "outputs": [
    {
     "data": {
      "text/plain": [
       "array(['F', 'M'], dtype=object)"
      ]
     },
     "execution_count": 40,
     "metadata": {},
     "output_type": "execute_result"
    }
   ],
   "source": [
    "insurance_data['gender'].unique()"
   ]
  },
  {
   "cell_type": "code",
   "execution_count": 41,
   "id": "22673f05",
   "metadata": {},
   "outputs": [
    {
     "data": {
      "text/plain": [
       "array(['Master', 'Bachelor', 'High School or Below', 'College', 'Doctor',\n",
       "       nan], dtype=object)"
      ]
     },
     "execution_count": 41,
     "metadata": {},
     "output_type": "execute_result"
    }
   ],
   "source": [
    "insurance_data['education'].unique()"
   ]
  },
  {
   "cell_type": "code",
   "execution_count": 42,
   "id": "3c72f5d2",
   "metadata": {},
   "outputs": [
    {
     "data": {
      "text/plain": [
       "Bachelor                331\n",
       "College                 313\n",
       "High School or Below    296\n",
       "Master                   94\n",
       "Doctor                   37\n",
       "Name: education, dtype: int64"
      ]
     },
     "execution_count": 42,
     "metadata": {},
     "output_type": "execute_result"
    }
   ],
   "source": [
    "insurance_data['education'].value_counts()"
   ]
  },
  {
   "cell_type": "code",
   "execution_count": 43,
   "id": "6ee04735",
   "metadata": {},
   "outputs": [],
   "source": [
    "# I am using the mode to replace the null values\n",
    "insurance_data['education'] = insurance_data['education'].fillna('Bachelor')"
   ]
  },
  {
   "cell_type": "code",
   "execution_count": 44,
   "id": "490da415",
   "metadata": {
    "scrolled": true
   },
   "outputs": [
    {
     "data": {
      "text/plain": [
       "array(['Master', 'Bachelor', 'High School or Below', 'College', 'Doctor'],\n",
       "      dtype=object)"
      ]
     },
     "execution_count": 44,
     "metadata": {},
     "output_type": "execute_result"
    }
   ],
   "source": [
    "insurance_data['education'].unique()"
   ]
  },
  {
   "cell_type": "code",
   "execution_count": 47,
   "id": "bbb3f3cd",
   "metadata": {},
   "outputs": [],
   "source": [
    "mean_custlifeval = insurance_data['customer-lifetime-value'].mean()"
   ]
  },
  {
   "cell_type": "code",
   "execution_count": 54,
   "id": "6b3c304c",
   "metadata": {},
   "outputs": [],
   "source": [
    "mean_custlifeval = 793690.25"
   ]
  },
  {
   "cell_type": "code",
   "execution_count": 55,
   "id": "7afbc16a",
   "metadata": {},
   "outputs": [
    {
     "data": {
      "text/plain": [
       "793690.25"
      ]
     },
     "execution_count": 55,
     "metadata": {},
     "output_type": "execute_result"
    }
   ],
   "source": [
    "mean_custlifeval"
   ]
  },
  {
   "cell_type": "code",
   "execution_count": 57,
   "id": "ce63fb78",
   "metadata": {
    "scrolled": true
   },
   "outputs": [],
   "source": [
    "insurance_data['customer-lifetime-value'] = insurance_data['customer-lifetime-value'].fillna(mean_custlifeval)"
   ]
  },
  {
   "cell_type": "code",
   "execution_count": 58,
   "id": "dc1c77c2",
   "metadata": {},
   "outputs": [
    {
     "data": {
      "text/plain": [
       "array([ 793690.25,  697953.59, 1288743.17, ..., 2031499.76,  323912.47,\n",
       "        899704.02])"
      ]
     },
     "execution_count": 58,
     "metadata": {},
     "output_type": "execute_result"
    }
   ],
   "source": [
    "insurance_data['customer-lifetime-value'].unique()"
   ]
  },
  {
   "cell_type": "code",
   "execution_count": 59,
   "id": "d8eca4b4",
   "metadata": {},
   "outputs": [
    {
     "data": {
      "text/plain": [
       "array([    0., 48767., 36357., 62902., 55350., 14072., 28812., 77026.,\n",
       "       99845., 83689., 24599., 25049., 28855., 51148., 66140., 57749.,\n",
       "       61040., 17870., 97541., 29723., 86584., 75690., 23158., 65999.,\n",
       "       37260., 68987., 42305., 65706., 53243., 50071., 60021., 43244.,\n",
       "       46896., 10105., 23218., 24804., 33190., 36014., 67163., 16701.,\n",
       "       46623., 64749., 16969., 11621., 17622., 11489., 66525., 33663.,\n",
       "       22547., 61486., 29879., 93011., 65186., 26840., 75644., 38984.,\n",
       "       71811., 20961., 41275., 61321., 51066., 34378., 43072., 25222.,\n",
       "       77552., 23091., 48269., 32720., 20396., 21513., 80744., 52822.,\n",
       "       69738., 17780., 18107., 57740., 32627., 65795., 60475., 41837.,\n",
       "       32303., 40531., 79898., 56398., 71600., 27804., 45506., 99428.,\n",
       "       20993., 37839., 92711., 74665., 61108., 46833., 88768., 28262.,\n",
       "       33555., 42780., 58850., 21880., 25251., 25317., 24188., 41611.,\n",
       "       28406., 69833., 80536., 88891., 97732., 61222., 50335., 82210.,\n",
       "       64495., 28859., 77330., 33060., 42557., 26372., 17514., 89270.,\n",
       "       29757., 51814., 24028., 28142., 52705., 54040., 22492., 21876.,\n",
       "       70699., 27501., 15897., 25141., 28358., 62530., 90972., 63110.,\n",
       "       29549., 39411., 21709., 67890., 84311., 99316., 54507., 64586.,\n",
       "       61709., 94656., 61085., 89284., 31686., 56855., 53703., 27679.,\n",
       "       23904., 65351., 64459., 32961., 71416., 68964., 78108., 10621.,\n",
       "       84910., 77493., 81097., 96610., 30110., 22081., 98473., 97431.,\n",
       "       93870., 50366., 34498., 16552., 26787., 43860., 21474., 18174.,\n",
       "       60920., 41520., 72208., 53863., 66446., 64997., 64460., 46618.,\n",
       "       49988., 16269., 72006., 44320., 19782., 63933., 28224., 21073.,\n",
       "       63243., 94827., 39161., 37534., 80210., 21708., 94731., 32375.,\n",
       "       16531., 32006., 81676., 71038., 20832., 52405., 26583., 25486.,\n",
       "       24065., 70435., 39679., 53565., 37574., 48259., 78532., 96163.,\n",
       "       72672., 99002., 79494., 35704., 26049., 70125., 52369., 41770.,\n",
       "       31911., 70051., 19683., 30916., 84302., 60145., 63774., 25134.,\n",
       "       37057., 58577., 85857., 70602., 33816., 89642., 60068., 50044.,\n",
       "       36650., 50653., 68931., 39266., 40864., 39035., 34923., 24506.,\n",
       "       52220., 53554., 34476., 68205., 53690., 74454., 29664., 72450.,\n",
       "       47272., 21585., 23827., 69906., 73196., 72217., 46131., 54514.,\n",
       "       96668., 78879., 29735., 23082., 53984., 52135., 17576., 29486.,\n",
       "       58557., 25632., 18768., 47945., 58778., 15192., 51859., 23422.,\n",
       "       21604., 79298., 76731., 38460., 48534., 30817., 48412., 68798.,\n",
       "       23712., 72196., 68197., 75248., 89879., 46998., 57099., 33897.,\n",
       "       59207., 40171., 80192., 74422., 34226., 65989., 30686., 20090.,\n",
       "       77094., 97413., 79189., 18577., 62777., 17483., 84394., 41440.,\n",
       "       98132., 88220., 58327., 25950., 65726., 84768., 36234., 58842.,\n",
       "       25629., 77311., 95697., 22254., 65974., 92079., 67752., 25398.,\n",
       "       33321., 38923., 20325., 13129., 49080., 42536., 29926., 21450.,\n",
       "       33345., 15752., 40169., 55411., 12459., 64620., 83140., 54422.,\n",
       "       68309., 56621., 38977., 83235., 32390., 66538., 23285., 76358.,\n",
       "       21104., 12964., 33288., 56168., 23105., 36218., 52275., 49665.,\n",
       "       32471., 62773., 76694., 55687., 36633., 77060., 92600., 64801.,\n",
       "       45257., 26854., 85840., 26463., 30689., 29590., 25965., 17269.,\n",
       "       90330., 18558., 46384., 42303., 71731., 26173., 24445., 72302.,\n",
       "       27208., 30855., 99960., 55873., 18052., 28937., 12829., 92163.,\n",
       "       17588., 41546., 70340., 34549., 93459., 86148., 27048., 73259.,\n",
       "       35482., 29462., 67801., 16042., 28056., 16495., 41163., 33799.,\n",
       "       90125., 87747., 35695., 90985., 66839., 79090., 24825., 26806.,\n",
       "       56835., 46135., 22862., 95854., 44897., 64455., 53265., 50450.,\n",
       "       54780., 67798., 21442., 27615., 50200., 73570., 70412., 36631.,\n",
       "       35895., 93018., 70014., 48875., 67969., 68665., 26802., 45345.,\n",
       "       89689., 32051., 81139., 63834., 37548., 72421., 83102., 28432.,\n",
       "       83707., 63259., 63860., 43836., 86132., 28519., 39102., 97298.,\n",
       "       41986., 17291., 37256., 96306., 14290., 37038., 90760., 77048.,\n",
       "       54480., 16244., 22436., 71592., 28728., 57449., 83318., 75217.,\n",
       "       55308., 36068., 48804., 55790., 70258., 47274., 44705., 70446.,\n",
       "       64348., 88997., 10312., 96263., 28919., 41869., 32808., 79780.,\n",
       "       91025., 33043., 69442., 47234., 86863., 25805., 43676., 59855.,\n",
       "       35296., 36576., 28513., 85448., 23791., 20597., 56940., 93210.,\n",
       "       48992., 53736., 25378., 37722., 69379., 33806., 94041., 74965.,\n",
       "       34095., 96045., 86355., 27824., 42995., 21235., 74585., 41833.,\n",
       "       23908., 61953., 73760., 23333., 20440., 27658., 50943., 19003.,\n",
       "       46703., 21733., 20811., 11904., 43490., 57340., 49088., 47761.,\n",
       "       61281., 25290., 24239., 82664., 83210., 38736., 55437., 68041.,\n",
       "       29066., 54337., 67616., 41082., 50631., 19592., 55761., 41449.,\n",
       "       62007., 21921., 42621., 63786., 82877., 10475., 21952., 49721.,\n",
       "       88340., 24589., 73769., 66670., 88854., 31266., 67267., 79270.,\n",
       "       36692., 44624., 19614., 83846., 51159., 83772., 88440., 25666.,\n",
       "       52926., 40001., 18024., 23220., 64125., 58042., 90034., 27972.,\n",
       "       50989., 11885., 89451., 78904., 70247., 32653., 93595., 90279.,\n",
       "       53310., 22234., 91375., 22250., 51179., 38667., 79487., 67763.,\n",
       "       71943., 53526., 35005., 24721., 48587., 76310., 73205., 51056.,\n",
       "       58414., 23940., 44216., 29305., 53882., 91757., 33906., 68158.,\n",
       "       42165., 68074., 84978., 71135., 64642., 46754., 70410., 66957.,\n",
       "       24213., 99790., 79751., 86122., 82297., 89057., 43259., 25064.,\n",
       "       25816., 41662., 96170., 46072., 37931., 35127., 45473., 93087.,\n",
       "       22398., 92983., 27689., 69654., 18608., 73168., 70930., 62262.,\n",
       "       91474., 61469., 16618., 48081., 67632., 34115., 23051., 23748.,\n",
       "       40589., 50809., 66676., 52339., 14973., 31546., 20836., 88592.,\n",
       "       66943., 81872., 22404., 21342., 34621., 62396., 97212., 49648.,\n",
       "       97984., 26308., 63528., 20225., 87620., 34990., 99934., 60804.,\n",
       "       94648., 24516., 61063., 15169., 55390., 27592., 61846., 83297.,\n",
       "       55897., 21297., 87560., 89398., 36843., 34946., 75680., 49532.,\n",
       "       10269., 49714., 77517., 81082., 72540., 61546., 44818., 79797.,\n",
       "       92717., 63568., 73935., 18846., 38893., 84824., 20068., 97245.,\n",
       "       51808., 71391., 23496., 55561., 23986., 22974., 61844., 27760.,\n",
       "       52266., 23599., 36088., 70534., 27398., 85296., 31063., 52367.,\n",
       "       58651., 84831., 70263., 45354., 28334., 38772., 41479., 23909.,\n",
       "       48328., 86689., 24204., 25943., 62375., 70200., 79027., 62935.,\n",
       "       26893., 47406., 27572., 32802., 62739., 90844., 44685., 42589.,\n",
       "       93383., 79583., 89129., 94389., 84106., 76717., 51978., 47325.,\n",
       "       86721., 24910., 43817., 59537., 54193., 86946., 12160., 33701.,\n",
       "       85702., 69417., 38644., 63209., 16061., 54230.,    nan])"
      ]
     },
     "execution_count": 59,
     "metadata": {},
     "output_type": "execute_result"
    }
   ],
   "source": [
    "insurance_data['income'].unique()"
   ]
  },
  {
   "cell_type": "code",
   "execution_count": 60,
   "id": "1029fb91",
   "metadata": {},
   "outputs": [
    {
     "data": {
      "text/plain": [
       "39295.70121381886"
      ]
     },
     "execution_count": 60,
     "metadata": {},
     "output_type": "execute_result"
    }
   ],
   "source": [
    "mean_income = insurance_data['income'].mean()\n",
    "mean_income"
   ]
  },
  {
   "cell_type": "code",
   "execution_count": 61,
   "id": "b684c0ca",
   "metadata": {},
   "outputs": [],
   "source": [
    "insurance_data['income'] = insurance_data['income'].fillna(mean_income)"
   ]
  },
  {
   "cell_type": "code",
   "execution_count": 62,
   "id": "9c06fffd",
   "metadata": {},
   "outputs": [
    {
     "data": {
      "text/plain": [
       "array([    0.        , 48767.        , 36357.        , 62902.        ,\n",
       "       55350.        , 14072.        , 28812.        , 77026.        ,\n",
       "       99845.        , 83689.        , 24599.        , 25049.        ,\n",
       "       28855.        , 51148.        , 66140.        , 57749.        ,\n",
       "       61040.        , 17870.        , 97541.        , 29723.        ,\n",
       "       86584.        , 75690.        , 23158.        , 65999.        ,\n",
       "       37260.        , 68987.        , 42305.        , 65706.        ,\n",
       "       53243.        , 50071.        , 60021.        , 43244.        ,\n",
       "       46896.        , 10105.        , 23218.        , 24804.        ,\n",
       "       33190.        , 36014.        , 67163.        , 16701.        ,\n",
       "       46623.        , 64749.        , 16969.        , 11621.        ,\n",
       "       17622.        , 11489.        , 66525.        , 33663.        ,\n",
       "       22547.        , 61486.        , 29879.        , 93011.        ,\n",
       "       65186.        , 26840.        , 75644.        , 38984.        ,\n",
       "       71811.        , 20961.        , 41275.        , 61321.        ,\n",
       "       51066.        , 34378.        , 43072.        , 25222.        ,\n",
       "       77552.        , 23091.        , 48269.        , 32720.        ,\n",
       "       20396.        , 21513.        , 80744.        , 52822.        ,\n",
       "       69738.        , 17780.        , 18107.        , 57740.        ,\n",
       "       32627.        , 65795.        , 60475.        , 41837.        ,\n",
       "       32303.        , 40531.        , 79898.        , 56398.        ,\n",
       "       71600.        , 27804.        , 45506.        , 99428.        ,\n",
       "       20993.        , 37839.        , 92711.        , 74665.        ,\n",
       "       61108.        , 46833.        , 88768.        , 28262.        ,\n",
       "       33555.        , 42780.        , 58850.        , 21880.        ,\n",
       "       25251.        , 25317.        , 24188.        , 41611.        ,\n",
       "       28406.        , 69833.        , 80536.        , 88891.        ,\n",
       "       97732.        , 61222.        , 50335.        , 82210.        ,\n",
       "       64495.        , 28859.        , 77330.        , 33060.        ,\n",
       "       42557.        , 26372.        , 17514.        , 89270.        ,\n",
       "       29757.        , 51814.        , 24028.        , 28142.        ,\n",
       "       52705.        , 54040.        , 22492.        , 21876.        ,\n",
       "       70699.        , 27501.        , 15897.        , 25141.        ,\n",
       "       28358.        , 62530.        , 90972.        , 63110.        ,\n",
       "       29549.        , 39411.        , 21709.        , 67890.        ,\n",
       "       84311.        , 99316.        , 54507.        , 64586.        ,\n",
       "       61709.        , 94656.        , 61085.        , 89284.        ,\n",
       "       31686.        , 56855.        , 53703.        , 27679.        ,\n",
       "       23904.        , 65351.        , 64459.        , 32961.        ,\n",
       "       71416.        , 68964.        , 78108.        , 10621.        ,\n",
       "       84910.        , 77493.        , 81097.        , 96610.        ,\n",
       "       30110.        , 22081.        , 98473.        , 97431.        ,\n",
       "       93870.        , 50366.        , 34498.        , 16552.        ,\n",
       "       26787.        , 43860.        , 21474.        , 18174.        ,\n",
       "       60920.        , 41520.        , 72208.        , 53863.        ,\n",
       "       66446.        , 64997.        , 64460.        , 46618.        ,\n",
       "       49988.        , 16269.        , 72006.        , 44320.        ,\n",
       "       19782.        , 63933.        , 28224.        , 21073.        ,\n",
       "       63243.        , 94827.        , 39161.        , 37534.        ,\n",
       "       80210.        , 21708.        , 94731.        , 32375.        ,\n",
       "       16531.        , 32006.        , 81676.        , 71038.        ,\n",
       "       20832.        , 52405.        , 26583.        , 25486.        ,\n",
       "       24065.        , 70435.        , 39679.        , 53565.        ,\n",
       "       37574.        , 48259.        , 78532.        , 96163.        ,\n",
       "       72672.        , 99002.        , 79494.        , 35704.        ,\n",
       "       26049.        , 70125.        , 52369.        , 41770.        ,\n",
       "       31911.        , 70051.        , 19683.        , 30916.        ,\n",
       "       84302.        , 60145.        , 63774.        , 25134.        ,\n",
       "       37057.        , 58577.        , 85857.        , 70602.        ,\n",
       "       33816.        , 89642.        , 60068.        , 50044.        ,\n",
       "       36650.        , 50653.        , 68931.        , 39266.        ,\n",
       "       40864.        , 39035.        , 34923.        , 24506.        ,\n",
       "       52220.        , 53554.        , 34476.        , 68205.        ,\n",
       "       53690.        , 74454.        , 29664.        , 72450.        ,\n",
       "       47272.        , 21585.        , 23827.        , 69906.        ,\n",
       "       73196.        , 72217.        , 46131.        , 54514.        ,\n",
       "       96668.        , 78879.        , 29735.        , 23082.        ,\n",
       "       53984.        , 52135.        , 17576.        , 29486.        ,\n",
       "       58557.        , 25632.        , 18768.        , 47945.        ,\n",
       "       58778.        , 15192.        , 51859.        , 23422.        ,\n",
       "       21604.        , 79298.        , 76731.        , 38460.        ,\n",
       "       48534.        , 30817.        , 48412.        , 68798.        ,\n",
       "       23712.        , 72196.        , 68197.        , 75248.        ,\n",
       "       89879.        , 46998.        , 57099.        , 33897.        ,\n",
       "       59207.        , 40171.        , 80192.        , 74422.        ,\n",
       "       34226.        , 65989.        , 30686.        , 20090.        ,\n",
       "       77094.        , 97413.        , 79189.        , 18577.        ,\n",
       "       62777.        , 17483.        , 84394.        , 41440.        ,\n",
       "       98132.        , 88220.        , 58327.        , 25950.        ,\n",
       "       65726.        , 84768.        , 36234.        , 58842.        ,\n",
       "       25629.        , 77311.        , 95697.        , 22254.        ,\n",
       "       65974.        , 92079.        , 67752.        , 25398.        ,\n",
       "       33321.        , 38923.        , 20325.        , 13129.        ,\n",
       "       49080.        , 42536.        , 29926.        , 21450.        ,\n",
       "       33345.        , 15752.        , 40169.        , 55411.        ,\n",
       "       12459.        , 64620.        , 83140.        , 54422.        ,\n",
       "       68309.        , 56621.        , 38977.        , 83235.        ,\n",
       "       32390.        , 66538.        , 23285.        , 76358.        ,\n",
       "       21104.        , 12964.        , 33288.        , 56168.        ,\n",
       "       23105.        , 36218.        , 52275.        , 49665.        ,\n",
       "       32471.        , 62773.        , 76694.        , 55687.        ,\n",
       "       36633.        , 77060.        , 92600.        , 64801.        ,\n",
       "       45257.        , 26854.        , 85840.        , 26463.        ,\n",
       "       30689.        , 29590.        , 25965.        , 17269.        ,\n",
       "       90330.        , 18558.        , 46384.        , 42303.        ,\n",
       "       71731.        , 26173.        , 24445.        , 72302.        ,\n",
       "       27208.        , 30855.        , 99960.        , 55873.        ,\n",
       "       18052.        , 28937.        , 12829.        , 92163.        ,\n",
       "       17588.        , 41546.        , 70340.        , 34549.        ,\n",
       "       93459.        , 86148.        , 27048.        , 73259.        ,\n",
       "       35482.        , 29462.        , 67801.        , 16042.        ,\n",
       "       28056.        , 16495.        , 41163.        , 33799.        ,\n",
       "       90125.        , 87747.        , 35695.        , 90985.        ,\n",
       "       66839.        , 79090.        , 24825.        , 26806.        ,\n",
       "       56835.        , 46135.        , 22862.        , 95854.        ,\n",
       "       44897.        , 64455.        , 53265.        , 50450.        ,\n",
       "       54780.        , 67798.        , 21442.        , 27615.        ,\n",
       "       50200.        , 73570.        , 70412.        , 36631.        ,\n",
       "       35895.        , 93018.        , 70014.        , 48875.        ,\n",
       "       67969.        , 68665.        , 26802.        , 45345.        ,\n",
       "       89689.        , 32051.        , 81139.        , 63834.        ,\n",
       "       37548.        , 72421.        , 83102.        , 28432.        ,\n",
       "       83707.        , 63259.        , 63860.        , 43836.        ,\n",
       "       86132.        , 28519.        , 39102.        , 97298.        ,\n",
       "       41986.        , 17291.        , 37256.        , 96306.        ,\n",
       "       14290.        , 37038.        , 90760.        , 77048.        ,\n",
       "       54480.        , 16244.        , 22436.        , 71592.        ,\n",
       "       28728.        , 57449.        , 83318.        , 75217.        ,\n",
       "       55308.        , 36068.        , 48804.        , 55790.        ,\n",
       "       70258.        , 47274.        , 44705.        , 70446.        ,\n",
       "       64348.        , 88997.        , 10312.        , 96263.        ,\n",
       "       28919.        , 41869.        , 32808.        , 79780.        ,\n",
       "       91025.        , 33043.        , 69442.        , 47234.        ,\n",
       "       86863.        , 25805.        , 43676.        , 59855.        ,\n",
       "       35296.        , 36576.        , 28513.        , 85448.        ,\n",
       "       23791.        , 20597.        , 56940.        , 93210.        ,\n",
       "       48992.        , 53736.        , 25378.        , 37722.        ,\n",
       "       69379.        , 33806.        , 94041.        , 74965.        ,\n",
       "       34095.        , 96045.        , 86355.        , 27824.        ,\n",
       "       42995.        , 21235.        , 74585.        , 41833.        ,\n",
       "       23908.        , 61953.        , 73760.        , 23333.        ,\n",
       "       20440.        , 27658.        , 50943.        , 19003.        ,\n",
       "       46703.        , 21733.        , 20811.        , 11904.        ,\n",
       "       43490.        , 57340.        , 49088.        , 47761.        ,\n",
       "       61281.        , 25290.        , 24239.        , 82664.        ,\n",
       "       83210.        , 38736.        , 55437.        , 68041.        ,\n",
       "       29066.        , 54337.        , 67616.        , 41082.        ,\n",
       "       50631.        , 19592.        , 55761.        , 41449.        ,\n",
       "       62007.        , 21921.        , 42621.        , 63786.        ,\n",
       "       82877.        , 10475.        , 21952.        , 49721.        ,\n",
       "       88340.        , 24589.        , 73769.        , 66670.        ,\n",
       "       88854.        , 31266.        , 67267.        , 79270.        ,\n",
       "       36692.        , 44624.        , 19614.        , 83846.        ,\n",
       "       51159.        , 83772.        , 88440.        , 25666.        ,\n",
       "       52926.        , 40001.        , 18024.        , 23220.        ,\n",
       "       64125.        , 58042.        , 90034.        , 27972.        ,\n",
       "       50989.        , 11885.        , 89451.        , 78904.        ,\n",
       "       70247.        , 32653.        , 93595.        , 90279.        ,\n",
       "       53310.        , 22234.        , 91375.        , 22250.        ,\n",
       "       51179.        , 38667.        , 79487.        , 67763.        ,\n",
       "       71943.        , 53526.        , 35005.        , 24721.        ,\n",
       "       48587.        , 76310.        , 73205.        , 51056.        ,\n",
       "       58414.        , 23940.        , 44216.        , 29305.        ,\n",
       "       53882.        , 91757.        , 33906.        , 68158.        ,\n",
       "       42165.        , 68074.        , 84978.        , 71135.        ,\n",
       "       64642.        , 46754.        , 70410.        , 66957.        ,\n",
       "       24213.        , 99790.        , 79751.        , 86122.        ,\n",
       "       82297.        , 89057.        , 43259.        , 25064.        ,\n",
       "       25816.        , 41662.        , 96170.        , 46072.        ,\n",
       "       37931.        , 35127.        , 45473.        , 93087.        ,\n",
       "       22398.        , 92983.        , 27689.        , 69654.        ,\n",
       "       18608.        , 73168.        , 70930.        , 62262.        ,\n",
       "       91474.        , 61469.        , 16618.        , 48081.        ,\n",
       "       67632.        , 34115.        , 23051.        , 23748.        ,\n",
       "       40589.        , 50809.        , 66676.        , 52339.        ,\n",
       "       14973.        , 31546.        , 20836.        , 88592.        ,\n",
       "       66943.        , 81872.        , 22404.        , 21342.        ,\n",
       "       34621.        , 62396.        , 97212.        , 49648.        ,\n",
       "       97984.        , 26308.        , 63528.        , 20225.        ,\n",
       "       87620.        , 34990.        , 99934.        , 60804.        ,\n",
       "       94648.        , 24516.        , 61063.        , 15169.        ,\n",
       "       55390.        , 27592.        , 61846.        , 83297.        ,\n",
       "       55897.        , 21297.        , 87560.        , 89398.        ,\n",
       "       36843.        , 34946.        , 75680.        , 49532.        ,\n",
       "       10269.        , 49714.        , 77517.        , 81082.        ,\n",
       "       72540.        , 61546.        , 44818.        , 79797.        ,\n",
       "       92717.        , 63568.        , 73935.        , 18846.        ,\n",
       "       38893.        , 84824.        , 20068.        , 97245.        ,\n",
       "       51808.        , 71391.        , 23496.        , 55561.        ,\n",
       "       23986.        , 22974.        , 61844.        , 27760.        ,\n",
       "       52266.        , 23599.        , 36088.        , 70534.        ,\n",
       "       27398.        , 85296.        , 31063.        , 52367.        ,\n",
       "       58651.        , 84831.        , 70263.        , 45354.        ,\n",
       "       28334.        , 38772.        , 41479.        , 23909.        ,\n",
       "       48328.        , 86689.        , 24204.        , 25943.        ,\n",
       "       62375.        , 70200.        , 79027.        , 62935.        ,\n",
       "       26893.        , 47406.        , 27572.        , 32802.        ,\n",
       "       62739.        , 90844.        , 44685.        , 42589.        ,\n",
       "       93383.        , 79583.        , 89129.        , 94389.        ,\n",
       "       84106.        , 76717.        , 51978.        , 47325.        ,\n",
       "       86721.        , 24910.        , 43817.        , 59537.        ,\n",
       "       54193.        , 86946.        , 12160.        , 33701.        ,\n",
       "       85702.        , 69417.        , 38644.        , 63209.        ,\n",
       "       16061.        , 54230.        , 39295.70121382])"
      ]
     },
     "execution_count": 62,
     "metadata": {},
     "output_type": "execute_result"
    }
   ],
   "source": [
    "insurance_data['income'].unique()"
   ]
  },
  {
   "cell_type": "code",
   "execution_count": 63,
   "id": "0b4ff5d6",
   "metadata": {},
   "outputs": [
    {
     "data": {
      "text/plain": [
       "False"
      ]
     },
     "execution_count": 63,
     "metadata": {},
     "output_type": "execute_result"
    }
   ],
   "source": [
    "insurance_data['income'].isnull().values.any()"
   ]
  },
  {
   "cell_type": "code",
   "execution_count": 64,
   "id": "472202a7",
   "metadata": {},
   "outputs": [
    {
     "data": {
      "text/plain": [
       "array([ 1000.,    94.,   108.,   106.,    68.,    69.,    67.,   101.,\n",
       "          71.,    93.,   110.,    70.,    64.,    72.,    74.,    79.,\n",
       "          73.,    61.,   111.,    80.,    63.,   237.,    65.,   130.,\n",
       "          62.,   117.,    91.,    90.,    66.,    99.,   103., 35354.,\n",
       "         172.,    92.,   104.,   113.,   124.,   105.,   100.,   112.,\n",
       "          97.,    95.,   102.,    96.,   186.,    77.,    76.,   119.,\n",
       "          87.,   109.,   107.,    88.,    85.,  6464.,   133.,    86.,\n",
       "          78.,    89.,   192.,   118.,   140.,   127.,   126.,    82.,\n",
       "         115.,   217.,   114.,   138.,    81.,   255.,   150.,   123.,\n",
       "         116.,   190.,    98.,   159.,    84.,    83.,   152.,   136.,\n",
       "         245.,   135.,  1005.,   225.,   132.,   153.,   121.,   139.,\n",
       "         154.,   161.,   156.,   171.,   244.,   183.,   176.,   230.,\n",
       "         129.,   177.,   181.,   196.,   131.,   276.,   253.,   137.,\n",
       "         180.,   203.,   147.,   165.,   198.,   125.,   193.,   128.,\n",
       "         271.,   142., 10202.,   206.,   182.,   189.,   160.,   295.,\n",
       "         210.,   134., 35353.,   239.,   188.,   256.,   173.,   285.,\n",
       "         148.,   141.,   197.,   199.,    nan])"
      ]
     },
     "execution_count": 64,
     "metadata": {},
     "output_type": "execute_result"
    }
   ],
   "source": [
    "insurance_data['monthly-premium-auto'].unique()"
   ]
  },
  {
   "cell_type": "code",
   "execution_count": 65,
   "id": "89d9ba36",
   "metadata": {},
   "outputs": [],
   "source": [
    "mean_mopremauto = insurance_data['monthly-premium-auto'].mean()"
   ]
  },
  {
   "cell_type": "code",
   "execution_count": 66,
   "id": "af3190b2",
   "metadata": {},
   "outputs": [
    {
     "data": {
      "text/plain": [
       "193.234360410831"
      ]
     },
     "execution_count": 66,
     "metadata": {},
     "output_type": "execute_result"
    }
   ],
   "source": [
    "mean_mopremauto"
   ]
  },
  {
   "cell_type": "code",
   "execution_count": 67,
   "id": "49e7dddf",
   "metadata": {},
   "outputs": [],
   "source": [
    "insurance_data['monthly-premium-auto'] = insurance_data['monthly-premium-auto'].fillna(mean_mopremauto)"
   ]
  },
  {
   "cell_type": "code",
   "execution_count": 68,
   "id": "8ae28c60",
   "metadata": {},
   "outputs": [
    {
     "data": {
      "text/plain": [
       "array([ 1000.        ,    94.        ,   108.        ,   106.        ,\n",
       "          68.        ,    69.        ,    67.        ,   101.        ,\n",
       "          71.        ,    93.        ,   110.        ,    70.        ,\n",
       "          64.        ,    72.        ,    74.        ,    79.        ,\n",
       "          73.        ,    61.        ,   111.        ,    80.        ,\n",
       "          63.        ,   237.        ,    65.        ,   130.        ,\n",
       "          62.        ,   117.        ,    91.        ,    90.        ,\n",
       "          66.        ,    99.        ,   103.        , 35354.        ,\n",
       "         172.        ,    92.        ,   104.        ,   113.        ,\n",
       "         124.        ,   105.        ,   100.        ,   112.        ,\n",
       "          97.        ,    95.        ,   102.        ,    96.        ,\n",
       "         186.        ,    77.        ,    76.        ,   119.        ,\n",
       "          87.        ,   109.        ,   107.        ,    88.        ,\n",
       "          85.        ,  6464.        ,   133.        ,    86.        ,\n",
       "          78.        ,    89.        ,   192.        ,   118.        ,\n",
       "         140.        ,   127.        ,   126.        ,    82.        ,\n",
       "         115.        ,   217.        ,   114.        ,   138.        ,\n",
       "          81.        ,   255.        ,   150.        ,   123.        ,\n",
       "         116.        ,   190.        ,    98.        ,   159.        ,\n",
       "          84.        ,    83.        ,   152.        ,   136.        ,\n",
       "         245.        ,   135.        ,  1005.        ,   225.        ,\n",
       "         132.        ,   153.        ,   121.        ,   139.        ,\n",
       "         154.        ,   161.        ,   156.        ,   171.        ,\n",
       "         244.        ,   183.        ,   176.        ,   230.        ,\n",
       "         129.        ,   177.        ,   181.        ,   196.        ,\n",
       "         131.        ,   276.        ,   253.        ,   137.        ,\n",
       "         180.        ,   203.        ,   147.        ,   165.        ,\n",
       "         198.        ,   125.        ,   193.        ,   128.        ,\n",
       "         271.        ,   142.        , 10202.        ,   206.        ,\n",
       "         182.        ,   189.        ,   160.        ,   295.        ,\n",
       "         210.        ,   134.        , 35353.        ,   239.        ,\n",
       "         188.        ,   256.        ,   173.        ,   285.        ,\n",
       "         148.        ,   141.        ,   197.        ,   199.        ,\n",
       "         193.23436041])"
      ]
     },
     "execution_count": 68,
     "metadata": {},
     "output_type": "execute_result"
    }
   ],
   "source": [
    "insurance_data['monthly-premium-auto'].unique()"
   ]
  },
  {
   "cell_type": "code",
   "execution_count": 69,
   "id": "f53bb4a6",
   "metadata": {},
   "outputs": [
    {
     "data": {
      "text/plain": [
       "False"
      ]
     },
     "execution_count": 69,
     "metadata": {},
     "output_type": "execute_result"
    }
   ],
   "source": [
    "insurance_data['monthly-premium-auto'].isnull().values.any()"
   ]
  },
  {
   "cell_type": "code",
   "execution_count": 70,
   "id": "44b6710b",
   "metadata": {},
   "outputs": [
    {
     "data": {
      "text/plain": [
       "array(['0', '2', '1', '3', '5', '4', nan], dtype=object)"
      ]
     },
     "execution_count": 70,
     "metadata": {},
     "output_type": "execute_result"
    }
   ],
   "source": [
    "insurance_data['number-of-open-complaints'].unique()"
   ]
  },
  {
   "cell_type": "code",
   "execution_count": 71,
   "id": "907927f2",
   "metadata": {},
   "outputs": [
    {
     "data": {
      "text/plain": [
       "0    830\n",
       "1    138\n",
       "2     50\n",
       "3     34\n",
       "4     13\n",
       "5      6\n",
       "Name: number-of-open-complaints, dtype: int64"
      ]
     },
     "execution_count": 71,
     "metadata": {},
     "output_type": "execute_result"
    }
   ],
   "source": [
    "insurance_data['number-of-open-complaints'].value_counts()"
   ]
  },
  {
   "cell_type": "code",
   "execution_count": 72,
   "id": "7743c591",
   "metadata": {},
   "outputs": [],
   "source": [
    "#  i am going to replace nan with the mode\n",
    "insurance_data['number-of-open-complaints'] = insurance_data['number-of-open-complaints'].fillna('0')"
   ]
  },
  {
   "cell_type": "code",
   "execution_count": 73,
   "id": "6942caea",
   "metadata": {},
   "outputs": [
    {
     "data": {
      "text/plain": [
       "array(['0', '2', '1', '3', '5', '4'], dtype=object)"
      ]
     },
     "execution_count": 73,
     "metadata": {},
     "output_type": "execute_result"
    }
   ],
   "source": [
    "insurance_data['number-of-open-complaints'].unique()"
   ]
  },
  {
   "cell_type": "code",
   "execution_count": 74,
   "id": "b1a22bb0",
   "metadata": {},
   "outputs": [
    {
     "data": {
      "text/plain": [
       "array(['Personal Auto', 'Corporate Auto', 'Special Auto', nan],\n",
       "      dtype=object)"
      ]
     },
     "execution_count": 74,
     "metadata": {},
     "output_type": "execute_result"
    }
   ],
   "source": [
    "insurance_data['policy-type'].unique()"
   ]
  },
  {
   "cell_type": "code",
   "execution_count": 75,
   "id": "420b9d08",
   "metadata": {},
   "outputs": [
    {
     "data": {
      "text/plain": [
       "Personal Auto     780\n",
       "Corporate Auto    234\n",
       "Special Auto       57\n",
       "Name: policy-type, dtype: int64"
      ]
     },
     "execution_count": 75,
     "metadata": {},
     "output_type": "execute_result"
    }
   ],
   "source": [
    "insurance_data['policy-type'].value_counts()"
   ]
  },
  {
   "cell_type": "code",
   "execution_count": 76,
   "id": "99daa6d8",
   "metadata": {},
   "outputs": [],
   "source": [
    "insurance_data['policy-type'] = insurance_data['policy-type'].fillna('Personal Auto')"
   ]
  },
  {
   "cell_type": "code",
   "execution_count": 77,
   "id": "49f575df",
   "metadata": {},
   "outputs": [
    {
     "data": {
      "text/plain": [
       "array(['Personal Auto', 'Corporate Auto', 'Special Auto'], dtype=object)"
      ]
     },
     "execution_count": 77,
     "metadata": {},
     "output_type": "execute_result"
    }
   ],
   "source": [
    "insurance_data['policy-type'].unique()"
   ]
  },
  {
   "cell_type": "code",
   "execution_count": 78,
   "id": "ac26d0f0",
   "metadata": {},
   "outputs": [
    {
     "data": {
      "text/plain": [
       "Personal Auto     781\n",
       "Corporate Auto    234\n",
       "Special Auto       57\n",
       "Name: policy-type, dtype: int64"
      ]
     },
     "execution_count": 78,
     "metadata": {},
     "output_type": "execute_result"
    }
   ],
   "source": [
    "insurance_data['policy-type'].value_counts()"
   ]
  },
  {
   "cell_type": "code",
   "execution_count": 79,
   "id": "d80acd3f",
   "metadata": {},
   "outputs": [
    {
     "data": {
      "text/plain": [
       "array(['Four-Door Car', 'Two-Door Car', 'SUV', 'Luxury', nan],\n",
       "      dtype=object)"
      ]
     },
     "execution_count": 79,
     "metadata": {},
     "output_type": "execute_result"
    }
   ],
   "source": [
    "insurance_data['vehicle-class'].unique()"
   ]
  },
  {
   "cell_type": "code",
   "execution_count": 80,
   "id": "b8d48077",
   "metadata": {},
   "outputs": [
    {
     "data": {
      "text/plain": [
       "Four-Door Car    576\n",
       "Two-Door Car     205\n",
       "SUV              199\n",
       "Luxury            91\n",
       "Name: vehicle-class, dtype: int64"
      ]
     },
     "execution_count": 80,
     "metadata": {},
     "output_type": "execute_result"
    }
   ],
   "source": [
    "insurance_data['vehicle-class'].value_counts()"
   ]
  },
  {
   "cell_type": "code",
   "execution_count": 81,
   "id": "64f515cb",
   "metadata": {},
   "outputs": [],
   "source": [
    "insurance_data['vehicle-class'] = insurance_data['vehicle-class'].fillna('Four-Door Car')"
   ]
  },
  {
   "cell_type": "code",
   "execution_count": 82,
   "id": "b20e4c32",
   "metadata": {},
   "outputs": [
    {
     "data": {
      "text/plain": [
       "array(['Four-Door Car', 'Two-Door Car', 'SUV', 'Luxury'], dtype=object)"
      ]
     },
     "execution_count": 82,
     "metadata": {},
     "output_type": "execute_result"
    }
   ],
   "source": [
    "insurance_data['vehicle-class'].unique()"
   ]
  },
  {
   "cell_type": "code",
   "execution_count": 83,
   "id": "7ce0a600",
   "metadata": {},
   "outputs": [
    {
     "data": {
      "text/plain": [
       "True"
      ]
     },
     "execution_count": 83,
     "metadata": {},
     "output_type": "execute_result"
    }
   ],
   "source": [
    "insurance_data['total-claim-amount'].isnull().values.any()"
   ]
  },
  {
   "cell_type": "code",
   "execution_count": 84,
   "id": "02233d5b",
   "metadata": {},
   "outputs": [
    {
     "data": {
      "text/plain": [
       "321.600000    19\n",
       "331.200000    15\n",
       "312.000000    14\n",
       "350.400000    14\n",
       "316.800000    12\n",
       "              ..\n",
       "421.484456     1\n",
       "430.505942     1\n",
       "7.646763       1\n",
       "55.510526      1\n",
       "207.320041     1\n",
       "Name: total-claim-amount, Length: 761, dtype: int64"
      ]
     },
     "execution_count": 84,
     "metadata": {},
     "output_type": "execute_result"
    }
   ],
   "source": [
    "insurance_data['total-claim-amount'].value_counts()"
   ]
  },
  {
   "cell_type": "code",
   "execution_count": 85,
   "id": "f65dd810",
   "metadata": {},
   "outputs": [
    {
     "data": {
      "text/plain": [
       "404.98690940896364"
      ]
     },
     "execution_count": 85,
     "metadata": {},
     "output_type": "execute_result"
    }
   ],
   "source": [
    "mean_totalamount = insurance_data['total-claim-amount'].mean()\n",
    "mean_totalamount"
   ]
  },
  {
   "cell_type": "code",
   "execution_count": 86,
   "id": "2baf75ec",
   "metadata": {},
   "outputs": [],
   "source": [
    "insurance_data['total-claim-amount'] = insurance_data['total-claim-amount'].fillna(mean_totalamount)"
   ]
  },
  {
   "cell_type": "code",
   "execution_count": 87,
   "id": "7c7c5dbb",
   "metadata": {},
   "outputs": [
    {
     "data": {
      "text/plain": [
       "False"
      ]
     },
     "execution_count": 87,
     "metadata": {},
     "output_type": "execute_result"
    }
   ],
   "source": [
    "insurance_data['total-claim-amount'].isnull().values.any()"
   ]
  },
  {
   "cell_type": "code",
   "execution_count": 88,
   "id": "3419fe8c",
   "metadata": {},
   "outputs": [],
   "source": [
    "insurance_data['income'] = insurance_data['income'].astype('int')"
   ]
  },
  {
   "cell_type": "code",
   "execution_count": 89,
   "id": "ba88355c",
   "metadata": {},
   "outputs": [],
   "source": [
    "insurance_data['monthly-premium-auto'] = insurance_data['monthly-premium-auto'].astype('int')"
   ]
  },
  {
   "cell_type": "code",
   "execution_count": 90,
   "id": "b4eaf76e",
   "metadata": {},
   "outputs": [],
   "source": [
    "insurance_data['total-claim-amount'] = insurance_data['total-claim-amount'].astype('int')"
   ]
  },
  {
   "cell_type": "code",
   "execution_count": 91,
   "id": "bb25a74f",
   "metadata": {},
   "outputs": [
    {
     "data": {
      "text/plain": [
       "index                          int64\n",
       "customer                      object\n",
       "state                         object\n",
       "gender                        object\n",
       "education                     object\n",
       "customer-lifetime-value      float64\n",
       "income                         int32\n",
       "monthly-premium-auto           int32\n",
       "number-of-open-complaints     object\n",
       "policy-type                   object\n",
       "vehicle-class                 object\n",
       "total-claim-amount             int32\n",
       "dtype: object"
      ]
     },
     "execution_count": 91,
     "metadata": {},
     "output_type": "execute_result"
    }
   ],
   "source": [
    "insurance_data.dtypes"
   ]
  },
  {
   "cell_type": "code",
   "execution_count": 92,
   "id": "250b683c",
   "metadata": {},
   "outputs": [
    {
     "name": "stdout",
     "output_type": "stream",
     "text": [
      "<class 'pandas.core.frame.DataFrame'>\n",
      "RangeIndex: 1072 entries, 0 to 1071\n",
      "Data columns (total 12 columns):\n",
      " #   Column                     Non-Null Count  Dtype  \n",
      "---  ------                     --------------  -----  \n",
      " 0   index                      1072 non-null   int64  \n",
      " 1   customer                   1071 non-null   object \n",
      " 2   state                      1071 non-null   object \n",
      " 3   gender                     1072 non-null   object \n",
      " 4   education                  1072 non-null   object \n",
      " 5   customer-lifetime-value    1072 non-null   float64\n",
      " 6   income                     1072 non-null   int32  \n",
      " 7   monthly-premium-auto       1072 non-null   int32  \n",
      " 8   number-of-open-complaints  1072 non-null   object \n",
      " 9   policy-type                1072 non-null   object \n",
      " 10  vehicle-class              1072 non-null   object \n",
      " 11  total-claim-amount         1072 non-null   int32  \n",
      "dtypes: float64(1), int32(3), int64(1), object(7)\n",
      "memory usage: 88.1+ KB\n"
     ]
    }
   ],
   "source": [
    "insurance_data.info()"
   ]
  },
  {
   "cell_type": "code",
   "execution_count": 93,
   "id": "1750e9e4",
   "metadata": {},
   "outputs": [
    {
     "data": {
      "text/html": [
       "<div>\n",
       "<style scoped>\n",
       "    .dataframe tbody tr th:only-of-type {\n",
       "        vertical-align: middle;\n",
       "    }\n",
       "\n",
       "    .dataframe tbody tr th {\n",
       "        vertical-align: top;\n",
       "    }\n",
       "\n",
       "    .dataframe thead th {\n",
       "        text-align: right;\n",
       "    }\n",
       "</style>\n",
       "<table border=\"1\" class=\"dataframe\">\n",
       "  <thead>\n",
       "    <tr style=\"text-align: right;\">\n",
       "      <th></th>\n",
       "      <th>index</th>\n",
       "      <th>customer-lifetime-value</th>\n",
       "      <th>income</th>\n",
       "      <th>monthly-premium-auto</th>\n",
       "      <th>total-claim-amount</th>\n",
       "    </tr>\n",
       "  </thead>\n",
       "  <tbody>\n",
       "    <tr>\n",
       "      <th>count</th>\n",
       "      <td>1072.000000</td>\n",
       "      <td>1.072000e+03</td>\n",
       "      <td>1072.000000</td>\n",
       "      <td>1072.000000</td>\n",
       "      <td>1072.000000</td>\n",
       "    </tr>\n",
       "    <tr>\n",
       "      <th>mean</th>\n",
       "      <td>535.500000</td>\n",
       "      <td>7.936903e+05</td>\n",
       "      <td>39295.700560</td>\n",
       "      <td>193.234142</td>\n",
       "      <td>404.527985</td>\n",
       "    </tr>\n",
       "    <tr>\n",
       "      <th>std</th>\n",
       "      <td>309.604048</td>\n",
       "      <td>6.422756e+05</td>\n",
       "      <td>30455.198983</td>\n",
       "      <td>1600.442673</td>\n",
       "      <td>292.905011</td>\n",
       "    </tr>\n",
       "    <tr>\n",
       "      <th>min</th>\n",
       "      <td>0.000000</td>\n",
       "      <td>2.004351e+05</td>\n",
       "      <td>0.000000</td>\n",
       "      <td>61.000000</td>\n",
       "      <td>0.000000</td>\n",
       "    </tr>\n",
       "    <tr>\n",
       "      <th>25%</th>\n",
       "      <td>267.750000</td>\n",
       "      <td>4.054051e+05</td>\n",
       "      <td>14072.000000</td>\n",
       "      <td>68.000000</td>\n",
       "      <td>201.750000</td>\n",
       "    </tr>\n",
       "    <tr>\n",
       "      <th>50%</th>\n",
       "      <td>535.500000</td>\n",
       "      <td>5.888346e+05</td>\n",
       "      <td>36295.500000</td>\n",
       "      <td>83.000000</td>\n",
       "      <td>354.500000</td>\n",
       "    </tr>\n",
       "    <tr>\n",
       "      <th>75%</th>\n",
       "      <td>803.250000</td>\n",
       "      <td>8.937675e+05</td>\n",
       "      <td>64625.500000</td>\n",
       "      <td>110.000000</td>\n",
       "      <td>532.000000</td>\n",
       "    </tr>\n",
       "    <tr>\n",
       "      <th>max</th>\n",
       "      <td>1071.000000</td>\n",
       "      <td>5.816655e+06</td>\n",
       "      <td>99960.000000</td>\n",
       "      <td>35354.000000</td>\n",
       "      <td>2893.000000</td>\n",
       "    </tr>\n",
       "  </tbody>\n",
       "</table>\n",
       "</div>"
      ],
      "text/plain": [
       "             index  customer-lifetime-value        income  \\\n",
       "count  1072.000000             1.072000e+03   1072.000000   \n",
       "mean    535.500000             7.936903e+05  39295.700560   \n",
       "std     309.604048             6.422756e+05  30455.198983   \n",
       "min       0.000000             2.004351e+05      0.000000   \n",
       "25%     267.750000             4.054051e+05  14072.000000   \n",
       "50%     535.500000             5.888346e+05  36295.500000   \n",
       "75%     803.250000             8.937675e+05  64625.500000   \n",
       "max    1071.000000             5.816655e+06  99960.000000   \n",
       "\n",
       "       monthly-premium-auto  total-claim-amount  \n",
       "count           1072.000000         1072.000000  \n",
       "mean             193.234142          404.527985  \n",
       "std             1600.442673          292.905011  \n",
       "min               61.000000            0.000000  \n",
       "25%               68.000000          201.750000  \n",
       "50%               83.000000          354.500000  \n",
       "75%              110.000000          532.000000  \n",
       "max            35354.000000         2893.000000  "
      ]
     },
     "execution_count": 93,
     "metadata": {},
     "output_type": "execute_result"
    }
   ],
   "source": [
    "insurance_data.describe()"
   ]
  },
  {
   "cell_type": "code",
   "execution_count": 94,
   "id": "4a0ee51c",
   "metadata": {},
   "outputs": [],
   "source": [
    "import seaborn as sns\n"
   ]
  },
  {
   "cell_type": "code",
   "execution_count": 95,
   "id": "9dd4569f",
   "metadata": {
    "scrolled": true
   },
   "outputs": [
    {
     "data": {
      "text/plain": [
       "<Axes: xlabel='gender', ylabel='count'>"
      ]
     },
     "execution_count": 95,
     "metadata": {},
     "output_type": "execute_result"
    },
    {
     "data": {
      "image/png": "[encoded data removed]",
      "text/plain": [
       "<Figure size 640x480 with 1 Axes>"
      ]
     },
     "metadata": {},
     "output_type": "display_data"
    }
   ],
   "source": [
    "sns.countplot(data=insurance_data, x=\"gender\")"
   ]
  },
  {
   "cell_type": "code",
   "execution_count": 96,
   "id": "44d68ebf",
   "metadata": {},
   "outputs": [],
   "source": [
    "# more females are insured"
   ]
  },
  {
   "cell_type": "code",
   "execution_count": 97,
   "id": "6b65eff8",
   "metadata": {},
   "outputs": [],
   "source": [
    "import matplotlib.pyplot as plt"
   ]
  },
  {
   "cell_type": "code",
   "execution_count": 98,
   "id": "8217847e",
   "metadata": {
    "scrolled": true
   },
   "outputs": [
    {
     "data": {
      "text/plain": [
       "<Axes: xlabel='state', ylabel='income'>"
      ]
     },
     "execution_count": 98,
     "metadata": {},
     "output_type": "execute_result"
    },
    {
     "data": {
      "image/png": "[encoded data removed]",
      "text/plain": [
       "<Figure size 640x480 with 1 Axes>"
      ]
     },
     "metadata": {},
     "output_type": "display_data"
    }
   ],
   "source": [
    "sns.barplot(x=\"state\", y=\"income\", data= insurance_data)"
   ]
  },
  {
   "cell_type": "code",
   "execution_count": 99,
   "id": "dc7391b6",
   "metadata": {},
   "outputs": [],
   "source": [
    "# Washington is the state with the highest income, small differences between the other states"
   ]
  },
  {
   "cell_type": "code",
   "execution_count": 100,
   "id": "f0322408",
   "metadata": {
    "scrolled": true
   },
   "outputs": [
    {
     "data": {
      "text/plain": [
       "<Axes: xlabel='policy-type', ylabel='total-claim-amount'>"
      ]
     },
     "execution_count": 100,
     "metadata": {},
     "output_type": "execute_result"
    },
    {
     "data": {
      "image/png": "[encoded data removed]",
      "text/plain": [
       "<Figure size 640x480 with 1 Axes>"
      ]
     },
     "metadata": {},
     "output_type": "display_data"
    }
   ],
   "source": [
    "sns.barplot(x=\"policy-type\", y=\"total-claim-amount\", data= insurance_data)"
   ]
  },
  {
   "cell_type": "code",
   "execution_count": 101,
   "id": "6db633b1",
   "metadata": {},
   "outputs": [],
   "source": [
    "# the total claim amount does not seems dependent on the policy type"
   ]
  },
  {
   "cell_type": "code",
   "execution_count": 104,
   "id": "24119512",
   "metadata": {
    "scrolled": true
   },
   "outputs": [
    {
     "data": {
      "text/plain": [
       "[None, None, None, None, None, None, None, None, None, None]"
      ]
     },
     "execution_count": 104,
     "metadata": {},
     "output_type": "execute_result"
    },
    {
     "data": {
      "image/png": "[encoded data removed]",
      "text/plain": [
       "<Figure size 640x480 with 1 Axes>"
      ]
     },
     "metadata": {},
     "output_type": "display_data"
    }
   ],
   "source": [
    "%matplotlib inline\n",
    "\n",
    "p = sns.histplot(x=\"education\", hue=\"vehicle-class\", data=insurance_data, stat=\"count\", multiple=\"stack\")\n",
    "plt.setp(p.get_xticklabels(), rotation=90)"
   ]
  },
  {
   "cell_type": "code",
   "execution_count": 544,
   "id": "4ffa64ac",
   "metadata": {},
   "outputs": [],
   "source": [
    "correlations_matrix=insurance_data.select_dtypes(\"number\").corr()"
   ]
  },
  {
   "cell_type": "code",
   "execution_count": 545,
   "id": "d9866ec2",
   "metadata": {
    "scrolled": true
   },
   "outputs": [
    {
     "data": {
      "text/html": [
       "<div>\n",
       "<style scoped>\n",
       "    .dataframe tbody tr th:only-of-type {\n",
       "        vertical-align: middle;\n",
       "    }\n",
       "\n",
       "    .dataframe tbody tr th {\n",
       "        vertical-align: top;\n",
       "    }\n",
       "\n",
       "    .dataframe thead th {\n",
       "        text-align: right;\n",
       "    }\n",
       "</style>\n",
       "<table border=\"1\" class=\"dataframe\">\n",
       "  <thead>\n",
       "    <tr style=\"text-align: right;\">\n",
       "      <th></th>\n",
       "      <th>index</th>\n",
       "      <th>customer-lifetime-value</th>\n",
       "      <th>income</th>\n",
       "      <th>monthly-premium-auto</th>\n",
       "      <th>total-claim-amount</th>\n",
       "    </tr>\n",
       "  </thead>\n",
       "  <tbody>\n",
       "    <tr>\n",
       "      <th>index</th>\n",
       "      <td>1.000000</td>\n",
       "      <td>0.025324</td>\n",
       "      <td>0.069820</td>\n",
       "      <td>-0.008743</td>\n",
       "      <td>-0.007843</td>\n",
       "    </tr>\n",
       "    <tr>\n",
       "      <th>customer-lifetime-value</th>\n",
       "      <td>0.025324</td>\n",
       "      <td>1.000000</td>\n",
       "      <td>0.041648</td>\n",
       "      <td>0.005027</td>\n",
       "      <td>0.131674</td>\n",
       "    </tr>\n",
       "    <tr>\n",
       "      <th>income</th>\n",
       "      <td>0.069820</td>\n",
       "      <td>0.041648</td>\n",
       "      <td>1.000000</td>\n",
       "      <td>0.049100</td>\n",
       "      <td>-0.361294</td>\n",
       "    </tr>\n",
       "    <tr>\n",
       "      <th>monthly-premium-auto</th>\n",
       "      <td>-0.008743</td>\n",
       "      <td>0.005027</td>\n",
       "      <td>0.049100</td>\n",
       "      <td>1.000000</td>\n",
       "      <td>-0.040522</td>\n",
       "    </tr>\n",
       "    <tr>\n",
       "      <th>total-claim-amount</th>\n",
       "      <td>-0.007843</td>\n",
       "      <td>0.131674</td>\n",
       "      <td>-0.361294</td>\n",
       "      <td>-0.040522</td>\n",
       "      <td>1.000000</td>\n",
       "    </tr>\n",
       "  </tbody>\n",
       "</table>\n",
       "</div>"
      ],
      "text/plain": [
       "                            index  customer-lifetime-value    income  \\\n",
       "index                    1.000000                 0.025324  0.069820   \n",
       "customer-lifetime-value  0.025324                 1.000000  0.041648   \n",
       "income                   0.069820                 0.041648  1.000000   \n",
       "monthly-premium-auto    -0.008743                 0.005027  0.049100   \n",
       "total-claim-amount      -0.007843                 0.131674 -0.361294   \n",
       "\n",
       "                         monthly-premium-auto  total-claim-amount  \n",
       "index                               -0.008743           -0.007843  \n",
       "customer-lifetime-value              0.005027            0.131674  \n",
       "income                               0.049100           -0.361294  \n",
       "monthly-premium-auto                 1.000000           -0.040522  \n",
       "total-claim-amount                  -0.040522            1.000000  "
      ]
     },
     "execution_count": 545,
     "metadata": {},
     "output_type": "execute_result"
    }
   ],
   "source": [
    "correlations_matrix"
   ]
  },
  {
   "cell_type": "code",
   "execution_count": null,
   "id": "e8cb7277",
   "metadata": {},
   "outputs": [],
   "source": [
    "# other plots that i woudl find beneficial: state-CLV, state-total claim amount, gender-total claim amount"
   ]
  },
  {
   "cell_type": "code",
   "execution_count": 105,
   "id": "144a0f51",
   "metadata": {},
   "outputs": [],
   "source": [
    "numerical_data = insurance_data.select_dtypes(include='number')"
   ]
  },
  {
   "cell_type": "code",
   "execution_count": 107,
   "id": "322cc3c7",
   "metadata": {},
   "outputs": [
    {
     "data": {
      "text/html": [
       "<div>\n",
       "<style scoped>\n",
       "    .dataframe tbody tr th:only-of-type {\n",
       "        vertical-align: middle;\n",
       "    }\n",
       "\n",
       "    .dataframe tbody tr th {\n",
       "        vertical-align: top;\n",
       "    }\n",
       "\n",
       "    .dataframe thead th {\n",
       "        text-align: right;\n",
       "    }\n",
       "</style>\n",
       "<table border=\"1\" class=\"dataframe\">\n",
       "  <thead>\n",
       "    <tr style=\"text-align: right;\">\n",
       "      <th></th>\n",
       "      <th>index</th>\n",
       "      <th>customer-lifetime-value</th>\n",
       "      <th>income</th>\n",
       "      <th>monthly-premium-auto</th>\n",
       "      <th>total-claim-amount</th>\n",
       "    </tr>\n",
       "  </thead>\n",
       "  <tbody>\n",
       "    <tr>\n",
       "      <th>0</th>\n",
       "      <td>0</td>\n",
       "      <td>793690.25</td>\n",
       "      <td>0</td>\n",
       "      <td>1000</td>\n",
       "      <td>2</td>\n",
       "    </tr>\n",
       "    <tr>\n",
       "      <th>1</th>\n",
       "      <td>1</td>\n",
       "      <td>697953.59</td>\n",
       "      <td>0</td>\n",
       "      <td>94</td>\n",
       "      <td>1131</td>\n",
       "    </tr>\n",
       "    <tr>\n",
       "      <th>2</th>\n",
       "      <td>2</td>\n",
       "      <td>1288743.17</td>\n",
       "      <td>48767</td>\n",
       "      <td>108</td>\n",
       "      <td>566</td>\n",
       "    </tr>\n",
       "    <tr>\n",
       "      <th>3</th>\n",
       "      <td>3</td>\n",
       "      <td>764586.18</td>\n",
       "      <td>0</td>\n",
       "      <td>106</td>\n",
       "      <td>529</td>\n",
       "    </tr>\n",
       "    <tr>\n",
       "      <th>4</th>\n",
       "      <td>4</td>\n",
       "      <td>536307.65</td>\n",
       "      <td>36357</td>\n",
       "      <td>68</td>\n",
       "      <td>17</td>\n",
       "    </tr>\n",
       "  </tbody>\n",
       "</table>\n",
       "</div>"
      ],
      "text/plain": [
       "   index  customer-lifetime-value  income  monthly-premium-auto  \\\n",
       "0      0                793690.25       0                  1000   \n",
       "1      1                697953.59       0                    94   \n",
       "2      2               1288743.17   48767                   108   \n",
       "3      3                764586.18       0                   106   \n",
       "4      4                536307.65   36357                    68   \n",
       "\n",
       "   total-claim-amount  \n",
       "0                   2  \n",
       "1                1131  \n",
       "2                 566  \n",
       "3                 529  \n",
       "4                  17  "
      ]
     },
     "execution_count": 107,
     "metadata": {},
     "output_type": "execute_result"
    }
   ],
   "source": [
    "numerical_data.head()"
   ]
  },
  {
   "cell_type": "code",
   "execution_count": 109,
   "id": "2b2f3f50",
   "metadata": {},
   "outputs": [
    {
     "data": {
      "text/html": [
       "<div>\n",
       "<style scoped>\n",
       "    .dataframe tbody tr th:only-of-type {\n",
       "        vertical-align: middle;\n",
       "    }\n",
       "\n",
       "    .dataframe tbody tr th {\n",
       "        vertical-align: top;\n",
       "    }\n",
       "\n",
       "    .dataframe thead th {\n",
       "        text-align: right;\n",
       "    }\n",
       "</style>\n",
       "<table border=\"1\" class=\"dataframe\">\n",
       "  <thead>\n",
       "    <tr style=\"text-align: right;\">\n",
       "      <th></th>\n",
       "      <th>index</th>\n",
       "      <th>customer</th>\n",
       "      <th>state</th>\n",
       "      <th>gender</th>\n",
       "      <th>education</th>\n",
       "      <th>customer-lifetime-value</th>\n",
       "      <th>income</th>\n",
       "      <th>monthly-premium-auto</th>\n",
       "      <th>number-of-open-complaints</th>\n",
       "      <th>policy-type</th>\n",
       "      <th>vehicle-class</th>\n",
       "      <th>total-claim-amount</th>\n",
       "    </tr>\n",
       "  </thead>\n",
       "  <tbody>\n",
       "    <tr>\n",
       "      <th>0</th>\n",
       "      <td>0</td>\n",
       "      <td>RB50392</td>\n",
       "      <td>Washington</td>\n",
       "      <td>F</td>\n",
       "      <td>Master</td>\n",
       "      <td>793690.25</td>\n",
       "      <td>0</td>\n",
       "      <td>1000</td>\n",
       "      <td>0</td>\n",
       "      <td>Personal Auto</td>\n",
       "      <td>Four-Door Car</td>\n",
       "      <td>2</td>\n",
       "    </tr>\n",
       "    <tr>\n",
       "      <th>1</th>\n",
       "      <td>1</td>\n",
       "      <td>QZ44356</td>\n",
       "      <td>Arizona</td>\n",
       "      <td>F</td>\n",
       "      <td>Bachelor</td>\n",
       "      <td>697953.59</td>\n",
       "      <td>0</td>\n",
       "      <td>94</td>\n",
       "      <td>0</td>\n",
       "      <td>Personal Auto</td>\n",
       "      <td>Four-Door Car</td>\n",
       "      <td>1131</td>\n",
       "    </tr>\n",
       "    <tr>\n",
       "      <th>2</th>\n",
       "      <td>2</td>\n",
       "      <td>AI49188</td>\n",
       "      <td>Nevada</td>\n",
       "      <td>F</td>\n",
       "      <td>Bachelor</td>\n",
       "      <td>1288743.17</td>\n",
       "      <td>48767</td>\n",
       "      <td>108</td>\n",
       "      <td>0</td>\n",
       "      <td>Personal Auto</td>\n",
       "      <td>Two-Door Car</td>\n",
       "      <td>566</td>\n",
       "    </tr>\n",
       "    <tr>\n",
       "      <th>3</th>\n",
       "      <td>3</td>\n",
       "      <td>WW63253</td>\n",
       "      <td>California</td>\n",
       "      <td>M</td>\n",
       "      <td>Bachelor</td>\n",
       "      <td>764586.18</td>\n",
       "      <td>0</td>\n",
       "      <td>106</td>\n",
       "      <td>0</td>\n",
       "      <td>Corporate Auto</td>\n",
       "      <td>SUV</td>\n",
       "      <td>529</td>\n",
       "    </tr>\n",
       "    <tr>\n",
       "      <th>4</th>\n",
       "      <td>4</td>\n",
       "      <td>GA49547</td>\n",
       "      <td>Washington</td>\n",
       "      <td>M</td>\n",
       "      <td>High School or Below</td>\n",
       "      <td>536307.65</td>\n",
       "      <td>36357</td>\n",
       "      <td>68</td>\n",
       "      <td>0</td>\n",
       "      <td>Personal Auto</td>\n",
       "      <td>Four-Door Car</td>\n",
       "      <td>17</td>\n",
       "    </tr>\n",
       "  </tbody>\n",
       "</table>\n",
       "</div>"
      ],
      "text/plain": [
       "   index customer       state gender             education  \\\n",
       "0      0  RB50392  Washington      F                Master   \n",
       "1      1  QZ44356     Arizona      F              Bachelor   \n",
       "2      2  AI49188      Nevada      F              Bachelor   \n",
       "3      3  WW63253  California      M              Bachelor   \n",
       "4      4  GA49547  Washington      M  High School or Below   \n",
       "\n",
       "   customer-lifetime-value  income  monthly-premium-auto  \\\n",
       "0                793690.25       0                  1000   \n",
       "1                697953.59       0                    94   \n",
       "2               1288743.17   48767                   108   \n",
       "3                764586.18       0                   106   \n",
       "4                536307.65   36357                    68   \n",
       "\n",
       "  number-of-open-complaints     policy-type  vehicle-class  total-claim-amount  \n",
       "0                         0   Personal Auto  Four-Door Car                   2  \n",
       "1                         0   Personal Auto  Four-Door Car                1131  \n",
       "2                         0   Personal Auto   Two-Door Car                 566  \n",
       "3                         0  Corporate Auto            SUV                 529  \n",
       "4                         0   Personal Auto  Four-Door Car                  17  "
      ]
     },
     "execution_count": 109,
     "metadata": {},
     "output_type": "execute_result"
    }
   ],
   "source": [
    "insurance_data.head()"
   ]
  },
  {
   "cell_type": "code",
   "execution_count": 111,
   "id": "5600171b",
   "metadata": {},
   "outputs": [],
   "source": [
    "categorical_data = insurance_data.select_dtypes(include='object')"
   ]
  },
  {
   "cell_type": "code",
   "execution_count": 112,
   "id": "96887e7a",
   "metadata": {},
   "outputs": [
    {
     "data": {
      "text/html": [
       "<div>\n",
       "<style scoped>\n",
       "    .dataframe tbody tr th:only-of-type {\n",
       "        vertical-align: middle;\n",
       "    }\n",
       "\n",
       "    .dataframe tbody tr th {\n",
       "        vertical-align: top;\n",
       "    }\n",
       "\n",
       "    .dataframe thead th {\n",
       "        text-align: right;\n",
       "    }\n",
       "</style>\n",
       "<table border=\"1\" class=\"dataframe\">\n",
       "  <thead>\n",
       "    <tr style=\"text-align: right;\">\n",
       "      <th></th>\n",
       "      <th>customer</th>\n",
       "      <th>state</th>\n",
       "      <th>gender</th>\n",
       "      <th>education</th>\n",
       "      <th>number-of-open-complaints</th>\n",
       "      <th>policy-type</th>\n",
       "      <th>vehicle-class</th>\n",
       "    </tr>\n",
       "  </thead>\n",
       "  <tbody>\n",
       "    <tr>\n",
       "      <th>0</th>\n",
       "      <td>RB50392</td>\n",
       "      <td>Washington</td>\n",
       "      <td>F</td>\n",
       "      <td>Master</td>\n",
       "      <td>0</td>\n",
       "      <td>Personal Auto</td>\n",
       "      <td>Four-Door Car</td>\n",
       "    </tr>\n",
       "    <tr>\n",
       "      <th>1</th>\n",
       "      <td>QZ44356</td>\n",
       "      <td>Arizona</td>\n",
       "      <td>F</td>\n",
       "      <td>Bachelor</td>\n",
       "      <td>0</td>\n",
       "      <td>Personal Auto</td>\n",
       "      <td>Four-Door Car</td>\n",
       "    </tr>\n",
       "    <tr>\n",
       "      <th>2</th>\n",
       "      <td>AI49188</td>\n",
       "      <td>Nevada</td>\n",
       "      <td>F</td>\n",
       "      <td>Bachelor</td>\n",
       "      <td>0</td>\n",
       "      <td>Personal Auto</td>\n",
       "      <td>Two-Door Car</td>\n",
       "    </tr>\n",
       "    <tr>\n",
       "      <th>3</th>\n",
       "      <td>WW63253</td>\n",
       "      <td>California</td>\n",
       "      <td>M</td>\n",
       "      <td>Bachelor</td>\n",
       "      <td>0</td>\n",
       "      <td>Corporate Auto</td>\n",
       "      <td>SUV</td>\n",
       "    </tr>\n",
       "    <tr>\n",
       "      <th>4</th>\n",
       "      <td>GA49547</td>\n",
       "      <td>Washington</td>\n",
       "      <td>M</td>\n",
       "      <td>High School or Below</td>\n",
       "      <td>0</td>\n",
       "      <td>Personal Auto</td>\n",
       "      <td>Four-Door Car</td>\n",
       "    </tr>\n",
       "  </tbody>\n",
       "</table>\n",
       "</div>"
      ],
      "text/plain": [
       "  customer       state gender             education number-of-open-complaints  \\\n",
       "0  RB50392  Washington      F                Master                         0   \n",
       "1  QZ44356     Arizona      F              Bachelor                         0   \n",
       "2  AI49188      Nevada      F              Bachelor                         0   \n",
       "3  WW63253  California      M              Bachelor                         0   \n",
       "4  GA49547  Washington      M  High School or Below                         0   \n",
       "\n",
       "      policy-type  vehicle-class  \n",
       "0   Personal Auto  Four-Door Car  \n",
       "1   Personal Auto  Four-Door Car  \n",
       "2   Personal Auto   Two-Door Car  \n",
       "3  Corporate Auto            SUV  \n",
       "4   Personal Auto  Four-Door Car  "
      ]
     },
     "execution_count": 112,
     "metadata": {},
     "output_type": "execute_result"
    }
   ],
   "source": [
    "categorical_data.head()"
   ]
  },
  {
   "cell_type": "code",
   "execution_count": 139,
   "id": "85e9c60d",
   "metadata": {},
   "outputs": [
    {
     "data": {
      "text/plain": [
       "<seaborn.axisgrid.FacetGrid at 0x17b86513590>"
      ]
     },
     "execution_count": 139,
     "metadata": {},
     "output_type": "execute_result"
    },
    {
     "data": {
      "image/png": "[encoded data removed]",
      "text/plain": [
       "<Figure size 500x500 with 1 Axes>"
      ]
     },
     "metadata": {},
     "output_type": "display_data"
    }
   ],
   "source": [
    "sns.displot(data=numerical_data, x = 'customer-lifetime-value')"
   ]
  },
  {
   "cell_type": "code",
   "execution_count": 134,
   "id": "953dea89",
   "metadata": {},
   "outputs": [
    {
     "data": {
      "text/plain": [
       "<seaborn.axisgrid.FacetGrid at 0x17bfc458d50>"
      ]
     },
     "execution_count": 134,
     "metadata": {},
     "output_type": "execute_result"
    },
    {
     "data": {
      "image/png": "[encoded data removed]",
      "text/plain": [
       "<Figure size 500x500 with 1 Axes>"
      ]
     },
     "metadata": {},
     "output_type": "display_data"
    }
   ],
   "source": [
    "sns.displot(data=numerical_data, x = 'income')"
   ]
  },
  {
   "cell_type": "code",
   "execution_count": 136,
   "id": "41ffa45e",
   "metadata": {
    "scrolled": true
   },
   "outputs": [
    {
     "data": {
      "text/plain": [
       "<seaborn.axisgrid.FacetGrid at 0x17b8415f9d0>"
      ]
     },
     "execution_count": 136,
     "metadata": {},
     "output_type": "execute_result"
    },
    {
     "data": {
      "image/png": "[encoded data removed]",
      "text/plain": [
       "<Figure size 500x500 with 1 Axes>"
      ]
     },
     "metadata": {},
     "output_type": "display_data"
    }
   ],
   "source": [
    "sns.displot(data=numerical_data, x = 'monthly-premium-auto')"
   ]
  },
  {
   "cell_type": "code",
   "execution_count": 137,
   "id": "efe085fd",
   "metadata": {},
   "outputs": [
    {
     "data": {
      "text/plain": [
       "<seaborn.axisgrid.FacetGrid at 0x17b86296ed0>"
      ]
     },
     "execution_count": 137,
     "metadata": {},
     "output_type": "execute_result"
    },
    {
     "data": {
      "image/png": "[encoded data removed]",
      "text/plain": [
       "<Figure size 500x500 with 1 Axes>"
      ]
     },
     "metadata": {},
     "output_type": "display_data"
    }
   ],
   "source": [
    "sns.displot(data=numerical_data, x = 'total-claim-amount')"
   ]
  },
  {
   "cell_type": "code",
   "execution_count": 138,
   "id": "7449278d",
   "metadata": {},
   "outputs": [
    {
     "data": {
      "text/plain": [
       "<function matplotlib.pyplot.show(close=None, block=None)>"
      ]
     },
     "execution_count": 138,
     "metadata": {},
     "output_type": "execute_result"
    },
    {
     "data": {
      "image/png": "[encoded data removed]",
      "text/plain": [
       "<Figure size 640x480 with 1 Axes>"
      ]
     },
     "metadata": {},
     "output_type": "display_data"
    }
   ],
   "source": [
    "numerical_data['customer-lifetime-value'].hist()\n",
    "plt.show"
   ]
  },
  {
   "cell_type": "code",
   "execution_count": 140,
   "id": "750c8aa7",
   "metadata": {},
   "outputs": [
    {
     "data": {
      "text/plain": [
       "<seaborn.axisgrid.FacetGrid at 0x17b8657c9d0>"
      ]
     },
     "execution_count": 140,
     "metadata": {},
     "output_type": "execute_result"
    },
    {
     "data": {
      "image/png": "[encoded data removed]",
      "text/plain": [
       "<Figure size 500x500 with 1 Axes>"
      ]
     },
     "metadata": {},
     "output_type": "display_data"
    }
   ],
   "source": [
    "sns.displot(data=numerical_data, x = ('income'))"
   ]
  },
  {
   "cell_type": "code",
   "execution_count": 141,
   "id": "16b403ea",
   "metadata": {},
   "outputs": [
    {
     "data": {
      "text/plain": [
       "<seaborn.axisgrid.FacetGrid at 0x17b878cd4d0>"
      ]
     },
     "execution_count": 141,
     "metadata": {},
     "output_type": "execute_result"
    },
    {
     "data": {
      "image/png": "[encoded data removed]",
      "text/plain": [
       "<Figure size 500x500 with 1 Axes>"
      ]
     },
     "metadata": {},
     "output_type": "display_data"
    }
   ],
   "source": [
    "sns.displot(data=numerical_data, x = ('monthly-premium-auto'))"
   ]
  },
  {
   "cell_type": "code",
   "execution_count": 142,
   "id": "ce54d399",
   "metadata": {},
   "outputs": [
    {
     "data": {
      "text/plain": [
       "<seaborn.axisgrid.FacetGrid at 0x17b8a8024d0>"
      ]
     },
     "execution_count": 142,
     "metadata": {},
     "output_type": "execute_result"
    },
    {
     "data": {
      "image/png": "[encoded data removed]",
      "text/plain": [
       "<Figure size 500x500 with 1 Axes>"
      ]
     },
     "metadata": {},
     "output_type": "display_data"
    }
   ],
   "source": [
    "sns.displot(data=numerical_data, x = ('total-claim-amount'))"
   ]
  },
  {
   "cell_type": "code",
   "execution_count": 143,
   "id": "145cad2c",
   "metadata": {},
   "outputs": [
    {
     "data": {
      "image/png": "[encoded data removed]",
      "text/plain": [
       "<Figure size 640x480 with 2 Axes>"
      ]
     },
     "metadata": {},
     "output_type": "display_data"
    }
   ],
   "source": [
    "correlations_matrix = numerical_data.corr()\n",
    "sns.heatmap(correlations_matrix, annot=True)\n",
    "plt.show()"
   ]
  },
  {
   "cell_type": "code",
   "execution_count": null,
   "id": "3d03a0fb",
   "metadata": {},
   "outputs": [],
   "source": [
    "# there is no high corelation between total-claim-amount and features. Also there is no high correlation between features"
   ]
  },
  {
   "cell_type": "code",
   "execution_count": 147,
   "id": "148b7f73",
   "metadata": {},
   "outputs": [],
   "source": [
    "from sklearn.preprocessing import MinMaxScaler # do not use the function Normalise() - it does something entirely different\n",
    "from sklearn.preprocessing import StandardScaler"
   ]
  },
  {
   "cell_type": "code",
   "execution_count": 153,
   "id": "ec2b5216",
   "metadata": {},
   "outputs": [],
   "source": [
    "y = insurance_data['total-claim-amount']\n",
    "X = insurance_data.drop(['total-claim-amount'], axis=1)\n",
    "\n",
    "X_num = X.select_dtypes(include = np.number)\n",
    "X_cat = X.select_dtypes(include = object)"
   ]
  },
  {
   "cell_type": "code",
   "execution_count": 154,
   "id": "3373c89b",
   "metadata": {
    "scrolled": true
   },
   "outputs": [
    {
     "name": "stdout",
     "output_type": "stream",
     "text": [
      "(1072, 4)\n"
     ]
    },
    {
     "data": {
      "text/html": [
       "<div>\n",
       "<style scoped>\n",
       "    .dataframe tbody tr th:only-of-type {\n",
       "        vertical-align: middle;\n",
       "    }\n",
       "\n",
       "    .dataframe tbody tr th {\n",
       "        vertical-align: top;\n",
       "    }\n",
       "\n",
       "    .dataframe thead th {\n",
       "        text-align: right;\n",
       "    }\n",
       "</style>\n",
       "<table border=\"1\" class=\"dataframe\">\n",
       "  <thead>\n",
       "    <tr style=\"text-align: right;\">\n",
       "      <th></th>\n",
       "      <th>index</th>\n",
       "      <th>customer-lifetime-value</th>\n",
       "      <th>income</th>\n",
       "      <th>monthly-premium-auto</th>\n",
       "    </tr>\n",
       "  </thead>\n",
       "  <tbody>\n",
       "    <tr>\n",
       "      <th>0</th>\n",
       "      <td>0.000000</td>\n",
       "      <td>0.105632</td>\n",
       "      <td>0.000000</td>\n",
       "      <td>0.026606</td>\n",
       "    </tr>\n",
       "    <tr>\n",
       "      <th>1</th>\n",
       "      <td>0.000934</td>\n",
       "      <td>0.088586</td>\n",
       "      <td>0.000000</td>\n",
       "      <td>0.000935</td>\n",
       "    </tr>\n",
       "    <tr>\n",
       "      <th>2</th>\n",
       "      <td>0.001867</td>\n",
       "      <td>0.193779</td>\n",
       "      <td>0.487865</td>\n",
       "      <td>0.001332</td>\n",
       "    </tr>\n",
       "    <tr>\n",
       "      <th>3</th>\n",
       "      <td>0.002801</td>\n",
       "      <td>0.100450</td>\n",
       "      <td>0.000000</td>\n",
       "      <td>0.001275</td>\n",
       "    </tr>\n",
       "    <tr>\n",
       "      <th>4</th>\n",
       "      <td>0.003735</td>\n",
       "      <td>0.059804</td>\n",
       "      <td>0.363715</td>\n",
       "      <td>0.000198</td>\n",
       "    </tr>\n",
       "    <tr>\n",
       "      <th>...</th>\n",
       "      <td>...</td>\n",
       "      <td>...</td>\n",
       "      <td>...</td>\n",
       "      <td>...</td>\n",
       "    </tr>\n",
       "    <tr>\n",
       "      <th>1067</th>\n",
       "      <td>0.996265</td>\n",
       "      <td>0.326031</td>\n",
       "      <td>0.632343</td>\n",
       "      <td>0.001162</td>\n",
       "    </tr>\n",
       "    <tr>\n",
       "      <th>1068</th>\n",
       "      <td>0.997199</td>\n",
       "      <td>0.021986</td>\n",
       "      <td>0.160674</td>\n",
       "      <td>0.000765</td>\n",
       "    </tr>\n",
       "    <tr>\n",
       "      <th>1069</th>\n",
       "      <td>0.998133</td>\n",
       "      <td>0.046694</td>\n",
       "      <td>0.795188</td>\n",
       "      <td>0.001502</td>\n",
       "    </tr>\n",
       "    <tr>\n",
       "      <th>1070</th>\n",
       "      <td>0.999066</td>\n",
       "      <td>0.124509</td>\n",
       "      <td>0.542517</td>\n",
       "      <td>0.001445</td>\n",
       "    </tr>\n",
       "    <tr>\n",
       "      <th>1071</th>\n",
       "      <td>1.000000</td>\n",
       "      <td>0.105632</td>\n",
       "      <td>0.393107</td>\n",
       "      <td>0.003740</td>\n",
       "    </tr>\n",
       "  </tbody>\n",
       "</table>\n",
       "<p>1072 rows × 4 columns</p>\n",
       "</div>"
      ],
      "text/plain": [
       "         index  customer-lifetime-value    income  monthly-premium-auto\n",
       "0     0.000000                 0.105632  0.000000              0.026606\n",
       "1     0.000934                 0.088586  0.000000              0.000935\n",
       "2     0.001867                 0.193779  0.487865              0.001332\n",
       "3     0.002801                 0.100450  0.000000              0.001275\n",
       "4     0.003735                 0.059804  0.363715              0.000198\n",
       "...        ...                      ...       ...                   ...\n",
       "1067  0.996265                 0.326031  0.632343              0.001162\n",
       "1068  0.997199                 0.021986  0.160674              0.000765\n",
       "1069  0.998133                 0.046694  0.795188              0.001502\n",
       "1070  0.999066                 0.124509  0.542517              0.001445\n",
       "1071  1.000000                 0.105632  0.393107              0.003740\n",
       "\n",
       "[1072 rows x 4 columns]"
      ]
     },
     "execution_count": 154,
     "metadata": {},
     "output_type": "execute_result"
    }
   ],
   "source": [
    "transformer = MinMaxScaler().fit(X_num)\n",
    "x_normalized = transformer.transform(X_num)\n",
    "print(x_normalized.shape)\n",
    "x_normalized\n",
    "pd.DataFrame(x_normalized, columns=X_num.columns)"
   ]
  },
  {
   "cell_type": "code",
   "execution_count": null,
   "id": "3e599752",
   "metadata": {},
   "outputs": [],
   "source": []
  }
 ],
 "metadata": {
  "kernelspec": {
   "display_name": "Python 3 (ipykernel)",
   "language": "python",
   "name": "python3"
  },
  "language_info": {
   "codemirror_mode": {
    "name": "ipython",
    "version": 3
   },
   "file_extension": ".py",
   "mimetype": "text/x-python",
   "name": "python",
   "nbconvert_exporter": "python",
   "pygments_lexer": "ipython3",
   "version": "3.11.4"
  }
 },
 "nbformat": 4,
 "nbformat_minor": 5
}
